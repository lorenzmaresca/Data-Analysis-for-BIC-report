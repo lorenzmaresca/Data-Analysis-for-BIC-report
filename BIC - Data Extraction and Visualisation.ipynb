{
 "cells": [
  {
   "cell_type": "markdown",
   "metadata": {},
   "source": [
    "# 1. Importing Libraries"
   ]
  },
  {
   "cell_type": "code",
   "execution_count": 4,
   "metadata": {},
   "outputs": [],
   "source": [
    "import pandas as pd\n",
    "import matplotlib.pyplot as plt\n",
    "import quandl\n",
    "%matplotlib inline"
   ]
  },
  {
   "cell_type": "markdown",
   "metadata": {},
   "source": [
    "# 2. Importing the data through quandl API\n"
   ]
  },
  {
   "cell_type": "markdown",
   "metadata": {},
   "source": [
    "### 2.1 All Employees: Total Nonfarm Payrolls\n",
    "source: [FRED](https://www.quandl.com/data/FRED/PAYEMS-All-Employees-Total-Nonfarm-Payrolls) - Accessed via personal quandl API account."
   ]
  },
  {
   "cell_type": "code",
   "execution_count": null,
   "metadata": {},
   "outputs": [],
   "source": [
    "nfp = quandl.get(\"FRED/PAYEMS\", authtoken=\"nPJTgF6X2H2LLcDqJ8W8\", index = True)\n",
    "nfp.reset_index(inplace = True)\n",
    "nfp.head()"
   ]
  },
  {
   "cell_type": "markdown",
   "metadata": {},
   "source": [
    "### 2.2 Gross wages and salaries: households and NPISH Country: European Union (15 countries):\n",
    "source : [EU Commission Annual Macro Database](https://www.quandl.com/data/AMECO/EU15_1_0_99_0_UWSH-Gross-wages-and-salaries-households-and-NPISH-Mrd-ECU-EUR-Standard-aggregation-European-Union-15-countries) - Accessed via personal quandl API account."
   ]
  },
  {
   "cell_type": "code",
   "execution_count": 19,
   "metadata": {},
   "outputs": [],
   "source": [
    "seu = quandl.get(\"AMECO/EU15_1_0_99_0_UWSH\", authtoken = \"nPJTgF6X2H2LLcDqJ8W8\")\n",
    "seu.reset_index(inplace = True)\n",
    "seu.head()"
   ]
  },
  {
   "cell_type": "markdown",
   "metadata": {},
   "source": [
    "### 2.3 Wage and salaried workers, total (% of total employed) - East Asia & Pacific (developing only).\n",
    "source : [World Bank](https://www.quandl.com/data/WWDI/EAP_SL_EMP_WORK_ZS-Wage-and-salaried-workers-total-of-total-employed-East-Asia-Pacific-developing-only) - Accessed via personal quandl API account."
   ]
  },
  {
   "cell_type": "code",
   "execution_count": 18,
   "metadata": {},
   "outputs": [],
   "source": [
    "eap = quandl.get(\"WWDI/EAP_SL_EMP_WORK_ZS\", authtoken=\"nPJTgF6X2H2LLcDqJ8W8\")\n",
    "eap.reset_index(inplace = True)\n",
    "eap.head()"
   ]
  },
  {
   "cell_type": "markdown",
   "metadata": {},
   "source": [
    "Now that we have 3 datasets that give us a clear indication of salary levels across 3 major markets: North American, European  & Asian. Let's now merge the 3 datasets into a unique dataset by using the \"Date\" parameter as an index.\n",
    "Let's try to find a starting point for our dataset by reviewing the timelines of each of the 3 separate databases:"
   ]
  },
  {
   "cell_type": "code",
   "execution_count": 25,
   "metadata": {},
   "outputs": [
    {
     "data": {
      "text/html": [
       "<div>\n",
       "<style scoped>\n",
       "    .dataframe tbody tr th:only-of-type {\n",
       "        vertical-align: middle;\n",
       "    }\n",
       "\n",
       "    .dataframe tbody tr th {\n",
       "        vertical-align: top;\n",
       "    }\n",
       "\n",
       "    .dataframe thead th {\n",
       "        text-align: right;\n",
       "    }\n",
       "</style>\n",
       "<table border=\"1\" class=\"dataframe\">\n",
       "  <thead>\n",
       "    <tr style=\"text-align: right;\">\n",
       "      <th></th>\n",
       "      <th>Date</th>\n",
       "      <th>Value</th>\n",
       "    </tr>\n",
       "  </thead>\n",
       "  <tbody>\n",
       "    <tr>\n",
       "      <th>0</th>\n",
       "      <td>1939-01-01</td>\n",
       "      <td>29923.0</td>\n",
       "    </tr>\n",
       "    <tr>\n",
       "      <th>1</th>\n",
       "      <td>1939-02-01</td>\n",
       "      <td>30100.0</td>\n",
       "    </tr>\n",
       "    <tr>\n",
       "      <th>2</th>\n",
       "      <td>1939-03-01</td>\n",
       "      <td>30280.0</td>\n",
       "    </tr>\n",
       "    <tr>\n",
       "      <th>3</th>\n",
       "      <td>1939-04-01</td>\n",
       "      <td>30094.0</td>\n",
       "    </tr>\n",
       "    <tr>\n",
       "      <th>4</th>\n",
       "      <td>1939-05-01</td>\n",
       "      <td>30299.0</td>\n",
       "    </tr>\n",
       "  </tbody>\n",
       "</table>\n",
       "</div>"
      ],
      "text/plain": [
       "        Date    Value\n",
       "0 1939-01-01  29923.0\n",
       "1 1939-02-01  30100.0\n",
       "2 1939-03-01  30280.0\n",
       "3 1939-04-01  30094.0\n",
       "4 1939-05-01  30299.0"
      ]
     },
     "execution_count": 25,
     "metadata": {},
     "output_type": "execute_result"
    }
   ],
   "source": [
    "nfp.head()"
   ]
  },
  {
   "cell_type": "code",
   "execution_count": 26,
   "metadata": {},
   "outputs": [
    {
     "data": {
      "text/html": [
       "<div>\n",
       "<style scoped>\n",
       "    .dataframe tbody tr th:only-of-type {\n",
       "        vertical-align: middle;\n",
       "    }\n",
       "\n",
       "    .dataframe tbody tr th {\n",
       "        vertical-align: top;\n",
       "    }\n",
       "\n",
       "    .dataframe thead th {\n",
       "        text-align: right;\n",
       "    }\n",
       "</style>\n",
       "<table border=\"1\" class=\"dataframe\">\n",
       "  <thead>\n",
       "    <tr style=\"text-align: right;\">\n",
       "      <th></th>\n",
       "      <th>Date</th>\n",
       "      <th>Value</th>\n",
       "    </tr>\n",
       "  </thead>\n",
       "  <tbody>\n",
       "    <tr>\n",
       "      <th>0</th>\n",
       "      <td>1999-12-31</td>\n",
       "      <td>3279.442</td>\n",
       "    </tr>\n",
       "    <tr>\n",
       "      <th>1</th>\n",
       "      <td>2000-12-31</td>\n",
       "      <td>3526.697</td>\n",
       "    </tr>\n",
       "    <tr>\n",
       "      <th>2</th>\n",
       "      <td>2001-12-31</td>\n",
       "      <td>3677.134</td>\n",
       "    </tr>\n",
       "    <tr>\n",
       "      <th>3</th>\n",
       "      <td>2002-12-31</td>\n",
       "      <td>3790.711</td>\n",
       "    </tr>\n",
       "    <tr>\n",
       "      <th>4</th>\n",
       "      <td>2003-12-31</td>\n",
       "      <td>3816.880</td>\n",
       "    </tr>\n",
       "  </tbody>\n",
       "</table>\n",
       "</div>"
      ],
      "text/plain": [
       "        Date     Value\n",
       "0 1999-12-31  3279.442\n",
       "1 2000-12-31  3526.697\n",
       "2 2001-12-31  3677.134\n",
       "3 2002-12-31  3790.711\n",
       "4 2003-12-31  3816.880"
      ]
     },
     "execution_count": 26,
     "metadata": {},
     "output_type": "execute_result"
    }
   ],
   "source": [
    "seu.head()"
   ]
  },
  {
   "cell_type": "code",
   "execution_count": 27,
   "metadata": {},
   "outputs": [
    {
     "data": {
      "text/html": [
       "<div>\n",
       "<style scoped>\n",
       "    .dataframe tbody tr th:only-of-type {\n",
       "        vertical-align: middle;\n",
       "    }\n",
       "\n",
       "    .dataframe tbody tr th {\n",
       "        vertical-align: top;\n",
       "    }\n",
       "\n",
       "    .dataframe thead th {\n",
       "        text-align: right;\n",
       "    }\n",
       "</style>\n",
       "<table border=\"1\" class=\"dataframe\">\n",
       "  <thead>\n",
       "    <tr style=\"text-align: right;\">\n",
       "      <th></th>\n",
       "      <th>Date</th>\n",
       "      <th>Value</th>\n",
       "    </tr>\n",
       "  </thead>\n",
       "  <tbody>\n",
       "    <tr>\n",
       "      <th>0</th>\n",
       "      <td>1991-12-31</td>\n",
       "      <td>31.530660</td>\n",
       "    </tr>\n",
       "    <tr>\n",
       "      <th>1</th>\n",
       "      <td>1992-12-31</td>\n",
       "      <td>32.617429</td>\n",
       "    </tr>\n",
       "    <tr>\n",
       "      <th>2</th>\n",
       "      <td>1993-12-31</td>\n",
       "      <td>34.704702</td>\n",
       "    </tr>\n",
       "    <tr>\n",
       "      <th>3</th>\n",
       "      <td>1994-12-31</td>\n",
       "      <td>36.531395</td>\n",
       "    </tr>\n",
       "    <tr>\n",
       "      <th>4</th>\n",
       "      <td>1995-12-31</td>\n",
       "      <td>38.396728</td>\n",
       "    </tr>\n",
       "  </tbody>\n",
       "</table>\n",
       "</div>"
      ],
      "text/plain": [
       "        Date      Value\n",
       "0 1991-12-31  31.530660\n",
       "1 1992-12-31  32.617429\n",
       "2 1993-12-31  34.704702\n",
       "3 1994-12-31  36.531395\n",
       "4 1995-12-31  38.396728"
      ]
     },
     "execution_count": 27,
     "metadata": {},
     "output_type": "execute_result"
    }
   ],
   "source": [
    "eap.head()"
   ]
  },
  {
   "cell_type": "markdown",
   "metadata": {},
   "source": [
    "We notice that the latest starting date of each of the 3 dataframes is \"1999-12-31\" (EU wage salaries). This makes sense as both EU and Euro as a currency do not date back as far in the past. \n",
    "\n",
    "We now merge the 3 datasets using the EU wages's timeline as an index:"
   ]
  },
  {
   "cell_type": "code",
   "execution_count": 43,
   "metadata": {},
   "outputs": [],
   "source": [
    "import numpy as np\n",
    "seu[\"Date\"] = seu[\"Date\"] + np.timedelta64(1,'D')\n",
    "# We added one day to the EU dataframe to normalise the numbers across the two datasets:\n",
    "# One can notice that the EU dataset is always realeased at month's and meanwhile the US at month's start"
   ]
  },
  {
   "cell_type": "code",
   "execution_count": 50,
   "metadata": {},
   "outputs": [],
   "source": [
    "new_df = seu.merge(nfp, how = \"left\", on = \"Date\")\n",
    "# Again we have to normalise the date for merging purposes:\n",
    "\n",
    "new_df[\"Date\"] = new_df[\"Date\"] - np.timedelta64(1,'D')\n",
    "final_df = new_df.merge(eap,how = \"left\", on = \"Date\")"
   ]
  },
  {
   "cell_type": "code",
   "execution_count": 52,
   "metadata": {},
   "outputs": [
    {
     "data": {
      "text/html": [
       "<div>\n",
       "<style scoped>\n",
       "    .dataframe tbody tr th:only-of-type {\n",
       "        vertical-align: middle;\n",
       "    }\n",
       "\n",
       "    .dataframe tbody tr th {\n",
       "        vertical-align: top;\n",
       "    }\n",
       "\n",
       "    .dataframe thead th {\n",
       "        text-align: right;\n",
       "    }\n",
       "</style>\n",
       "<table border=\"1\" class=\"dataframe\">\n",
       "  <thead>\n",
       "    <tr style=\"text-align: right;\">\n",
       "      <th></th>\n",
       "      <th>Date</th>\n",
       "      <th>Value_x</th>\n",
       "      <th>Value_y</th>\n",
       "      <th>Value</th>\n",
       "    </tr>\n",
       "  </thead>\n",
       "  <tbody>\n",
       "    <tr>\n",
       "      <th>0</th>\n",
       "      <td>1999-12-31</td>\n",
       "      <td>3279.442</td>\n",
       "      <td>131020.0</td>\n",
       "      <td>41.414897</td>\n",
       "    </tr>\n",
       "    <tr>\n",
       "      <th>1</th>\n",
       "      <td>2000-12-31</td>\n",
       "      <td>3526.697</td>\n",
       "      <td>132712.0</td>\n",
       "      <td>42.047554</td>\n",
       "    </tr>\n",
       "    <tr>\n",
       "      <th>2</th>\n",
       "      <td>2001-12-31</td>\n",
       "      <td>3677.134</td>\n",
       "      <td>130868.0</td>\n",
       "      <td>42.861365</td>\n",
       "    </tr>\n",
       "    <tr>\n",
       "      <th>3</th>\n",
       "      <td>2002-12-31</td>\n",
       "      <td>3790.711</td>\n",
       "      <td>130596.0</td>\n",
       "      <td>43.633658</td>\n",
       "    </tr>\n",
       "    <tr>\n",
       "      <th>4</th>\n",
       "      <td>2003-12-31</td>\n",
       "      <td>3816.880</td>\n",
       "      <td>130787.0</td>\n",
       "      <td>44.809019</td>\n",
       "    </tr>\n",
       "  </tbody>\n",
       "</table>\n",
       "</div>"
      ],
      "text/plain": [
       "        Date   Value_x   Value_y      Value\n",
       "0 1999-12-31  3279.442  131020.0  41.414897\n",
       "1 2000-12-31  3526.697  132712.0  42.047554\n",
       "2 2001-12-31  3677.134  130868.0  42.861365\n",
       "3 2002-12-31  3790.711  130596.0  43.633658\n",
       "4 2003-12-31  3816.880  130787.0  44.809019"
      ]
     },
     "execution_count": 52,
     "metadata": {},
     "output_type": "execute_result"
    }
   ],
   "source": [
    "final_df.head()"
   ]
  },
  {
   "cell_type": "markdown",
   "metadata": {},
   "source": [
    "We now rename our 3 datasets according to their respective markets:\n",
    "    - Value_x = EU\n",
    "    - Value_y = US\n",
    "    - Value = DM (Developing Markets)"
   ]
  },
  {
   "cell_type": "code",
   "execution_count": 58,
   "metadata": {},
   "outputs": [],
   "source": [
    "final_df.rename(columns = {\"Value_x\":\"EU\", \"Value_y\":\"US\",\"Value\":\"DM\"}, inplace = True)"
   ]
  },
  {
   "cell_type": "code",
   "execution_count": 59,
   "metadata": {},
   "outputs": [
    {
     "data": {
      "text/html": [
       "<div>\n",
       "<style scoped>\n",
       "    .dataframe tbody tr th:only-of-type {\n",
       "        vertical-align: middle;\n",
       "    }\n",
       "\n",
       "    .dataframe tbody tr th {\n",
       "        vertical-align: top;\n",
       "    }\n",
       "\n",
       "    .dataframe thead th {\n",
       "        text-align: right;\n",
       "    }\n",
       "</style>\n",
       "<table border=\"1\" class=\"dataframe\">\n",
       "  <thead>\n",
       "    <tr style=\"text-align: right;\">\n",
       "      <th></th>\n",
       "      <th>Date</th>\n",
       "      <th>EU</th>\n",
       "      <th>US</th>\n",
       "      <th>Developing Markets</th>\n",
       "    </tr>\n",
       "  </thead>\n",
       "  <tbody>\n",
       "    <tr>\n",
       "      <th>0</th>\n",
       "      <td>1999-12-31</td>\n",
       "      <td>3279.442</td>\n",
       "      <td>131020.0</td>\n",
       "      <td>41.414897</td>\n",
       "    </tr>\n",
       "    <tr>\n",
       "      <th>1</th>\n",
       "      <td>2000-12-31</td>\n",
       "      <td>3526.697</td>\n",
       "      <td>132712.0</td>\n",
       "      <td>42.047554</td>\n",
       "    </tr>\n",
       "    <tr>\n",
       "      <th>2</th>\n",
       "      <td>2001-12-31</td>\n",
       "      <td>3677.134</td>\n",
       "      <td>130868.0</td>\n",
       "      <td>42.861365</td>\n",
       "    </tr>\n",
       "    <tr>\n",
       "      <th>3</th>\n",
       "      <td>2002-12-31</td>\n",
       "      <td>3790.711</td>\n",
       "      <td>130596.0</td>\n",
       "      <td>43.633658</td>\n",
       "    </tr>\n",
       "    <tr>\n",
       "      <th>4</th>\n",
       "      <td>2003-12-31</td>\n",
       "      <td>3816.880</td>\n",
       "      <td>130787.0</td>\n",
       "      <td>44.809019</td>\n",
       "    </tr>\n",
       "  </tbody>\n",
       "</table>\n",
       "</div>"
      ],
      "text/plain": [
       "        Date        EU        US  Developing Markets\n",
       "0 1999-12-31  3279.442  131020.0           41.414897\n",
       "1 2000-12-31  3526.697  132712.0           42.047554\n",
       "2 2001-12-31  3677.134  130868.0           42.861365\n",
       "3 2002-12-31  3790.711  130596.0           43.633658\n",
       "4 2003-12-31  3816.880  130787.0           44.809019"
      ]
     },
     "execution_count": 59,
     "metadata": {},
     "output_type": "execute_result"
    }
   ],
   "source": [
    "final_df.head()"
   ]
  },
  {
   "cell_type": "markdown",
   "metadata": {},
   "source": [
    "Now we need to use the vectorised properties of a Dataframe to calculate the percentage change year on year:"
   ]
  },
  {
   "cell_type": "code",
   "execution_count": 62,
   "metadata": {},
   "outputs": [],
   "source": [
    "final_df[\"Pct_change EU\"] = final_df[\"EU\"].pct_change()\n",
    "final_df[\"Pct_change US\"] = final_df[\"US\"].pct_change()\n",
    "final_df[\"Pct_change DM\"] = final_df[\"Developing Markets\"].pct_change()"
   ]
  },
  {
   "cell_type": "code",
   "execution_count": 64,
   "metadata": {},
   "outputs": [
    {
     "data": {
      "text/html": [
       "<div>\n",
       "<style scoped>\n",
       "    .dataframe tbody tr th:only-of-type {\n",
       "        vertical-align: middle;\n",
       "    }\n",
       "\n",
       "    .dataframe tbody tr th {\n",
       "        vertical-align: top;\n",
       "    }\n",
       "\n",
       "    .dataframe thead th {\n",
       "        text-align: right;\n",
       "    }\n",
       "</style>\n",
       "<table border=\"1\" class=\"dataframe\">\n",
       "  <thead>\n",
       "    <tr style=\"text-align: right;\">\n",
       "      <th></th>\n",
       "      <th>Date</th>\n",
       "      <th>EU</th>\n",
       "      <th>US</th>\n",
       "      <th>Developing Markets</th>\n",
       "      <th>Pct_change EU</th>\n",
       "      <th>Pct_change US</th>\n",
       "      <th>Pct_change DM</th>\n",
       "    </tr>\n",
       "  </thead>\n",
       "  <tbody>\n",
       "    <tr>\n",
       "      <th>0</th>\n",
       "      <td>1999-12-31</td>\n",
       "      <td>3279.442</td>\n",
       "      <td>131020.0</td>\n",
       "      <td>41.414897</td>\n",
       "      <td>NaN</td>\n",
       "      <td>NaN</td>\n",
       "      <td>NaN</td>\n",
       "    </tr>\n",
       "    <tr>\n",
       "      <th>1</th>\n",
       "      <td>2000-12-31</td>\n",
       "      <td>3526.697</td>\n",
       "      <td>132712.0</td>\n",
       "      <td>42.047554</td>\n",
       "      <td>0.075395</td>\n",
       "      <td>0.012914</td>\n",
       "      <td>0.015276</td>\n",
       "    </tr>\n",
       "    <tr>\n",
       "      <th>2</th>\n",
       "      <td>2001-12-31</td>\n",
       "      <td>3677.134</td>\n",
       "      <td>130868.0</td>\n",
       "      <td>42.861365</td>\n",
       "      <td>0.042657</td>\n",
       "      <td>-0.013895</td>\n",
       "      <td>0.019355</td>\n",
       "    </tr>\n",
       "    <tr>\n",
       "      <th>3</th>\n",
       "      <td>2002-12-31</td>\n",
       "      <td>3790.711</td>\n",
       "      <td>130596.0</td>\n",
       "      <td>43.633658</td>\n",
       "      <td>0.030887</td>\n",
       "      <td>-0.002078</td>\n",
       "      <td>0.018018</td>\n",
       "    </tr>\n",
       "    <tr>\n",
       "      <th>4</th>\n",
       "      <td>2003-12-31</td>\n",
       "      <td>3816.880</td>\n",
       "      <td>130787.0</td>\n",
       "      <td>44.809019</td>\n",
       "      <td>0.006903</td>\n",
       "      <td>0.001463</td>\n",
       "      <td>0.026937</td>\n",
       "    </tr>\n",
       "  </tbody>\n",
       "</table>\n",
       "</div>"
      ],
      "text/plain": [
       "        Date        EU        US  Developing Markets  Pct_change EU  \\\n",
       "0 1999-12-31  3279.442  131020.0           41.414897            NaN   \n",
       "1 2000-12-31  3526.697  132712.0           42.047554       0.075395   \n",
       "2 2001-12-31  3677.134  130868.0           42.861365       0.042657   \n",
       "3 2002-12-31  3790.711  130596.0           43.633658       0.030887   \n",
       "4 2003-12-31  3816.880  130787.0           44.809019       0.006903   \n",
       "\n",
       "   Pct_change US  Pct_change DM  \n",
       "0            NaN            NaN  \n",
       "1       0.012914       0.015276  \n",
       "2      -0.013895       0.019355  \n",
       "3      -0.002078       0.018018  \n",
       "4       0.001463       0.026937  "
      ]
     },
     "execution_count": 64,
     "metadata": {},
     "output_type": "execute_result"
    }
   ],
   "source": [
    "final_df.head()"
   ]
  },
  {
   "cell_type": "markdown",
   "metadata": {},
   "source": [
    "We are now left with graphically analysing the properties of the percentage changes in each market and see whether a slowdown has happened during 2018."
   ]
  },
  {
   "cell_type": "code",
   "execution_count": 76,
   "metadata": {},
   "outputs": [],
   "source": [
    "import seaborn as sns"
   ]
  },
  {
   "cell_type": "markdown",
   "metadata": {},
   "source": [
    "# 2.4 Data Visualisation"
   ]
  },
  {
   "cell_type": "code",
   "execution_count": 78,
   "metadata": {},
   "outputs": [],
   "source": [
    "plot_df = final_df[[\"Pct_change EU\", \"Pct_change US\" ,\"Pct_change DM\"]]"
   ]
  },
  {
   "cell_type": "code",
   "execution_count": 94,
   "metadata": {},
   "outputs": [
    {
     "data": {
      "image/png": "[encoded data removed]",
      "text/plain": [
       "<Figure size 432x288 with 1 Axes>"
      ]
     },
     "metadata": {},
     "output_type": "display_data"
    }
   ],
   "source": [
    "ax  = plot_df.boxplot()\n",
    "vals = ax.get_yticks()\n",
    "ax.set_yticklabels(['{:,.2%}'.format(x) for x in vals])\n",
    "plt.title(\"Pct Wage growth distribution 1999-2018\")\n",
    "plt.show()"
   ]
  },
  {
   "cell_type": "code",
   "execution_count": 88,
   "metadata": {},
   "outputs": [],
   "source": [
    "plot_df = final_df[[\"Date\", \"Pct_change EU\", \"Pct_change US\" ,\"Pct_change DM\"]]\n",
    "plot_df = plot_df[plot_df[\"Date\"] > \"2015-12-31\"]"
   ]
  },
  {
   "cell_type": "code",
   "execution_count": 96,
   "metadata": {},
   "outputs": [
    {
     "data": {
      "image/png": "[encoded data removed]",
      "text/plain": [
       "<Figure size 432x288 with 1 Axes>"
      ]
     },
     "metadata": {},
     "output_type": "display_data"
    }
   ],
   "source": [
    "ax = plot_df.plot(kind = \"line\" , x = \"Date\",linestyle='-', linewidth=2.5, drawstyle =\"steps-post\", marker = \".\" ,markersize=10)\n",
    "vals = ax.get_yticks()\n",
    "ax.set_yticklabels(['{:,.2%}'.format(x) for x in vals])\n",
    "plt.title(\"Pct Wage growth 2015-2018\")\n",
    "plt.show()\n"
   ]
  },
  {
   "cell_type": "code",
   "execution_count": 97,
   "metadata": {},
   "outputs": [
    {
     "data": {
      "text/html": [
       "<div>\n",
       "<style scoped>\n",
       "    .dataframe tbody tr th:only-of-type {\n",
       "        vertical-align: middle;\n",
       "    }\n",
       "\n",
       "    .dataframe tbody tr th {\n",
       "        vertical-align: top;\n",
       "    }\n",
       "\n",
       "    .dataframe thead th {\n",
       "        text-align: right;\n",
       "    }\n",
       "</style>\n",
       "<table border=\"1\" class=\"dataframe\">\n",
       "  <thead>\n",
       "    <tr style=\"text-align: right;\">\n",
       "      <th></th>\n",
       "      <th>Date</th>\n",
       "      <th>EU</th>\n",
       "      <th>US</th>\n",
       "      <th>Developing Markets</th>\n",
       "      <th>Pct_change EU</th>\n",
       "      <th>Pct_change US</th>\n",
       "      <th>Pct_change DM</th>\n",
       "    </tr>\n",
       "  </thead>\n",
       "  <tbody>\n",
       "    <tr>\n",
       "      <th>14</th>\n",
       "      <td>2013-12-31</td>\n",
       "      <td>4763.096</td>\n",
       "      <td>137567.0</td>\n",
       "      <td>56.976324</td>\n",
       "      <td>0.004291</td>\n",
       "      <td>0.016883</td>\n",
       "      <td>0.008848</td>\n",
       "    </tr>\n",
       "    <tr>\n",
       "      <th>15</th>\n",
       "      <td>2014-12-31</td>\n",
       "      <td>4906.134</td>\n",
       "      <td>140609.0</td>\n",
       "      <td>57.727242</td>\n",
       "      <td>0.030030</td>\n",
       "      <td>0.022113</td>\n",
       "      <td>0.013179</td>\n",
       "    </tr>\n",
       "    <tr>\n",
       "      <th>16</th>\n",
       "      <td>2015-12-31</td>\n",
       "      <td>5158.365</td>\n",
       "      <td>143215.0</td>\n",
       "      <td>58.538491</td>\n",
       "      <td>0.051411</td>\n",
       "      <td>0.018534</td>\n",
       "      <td>0.014053</td>\n",
       "    </tr>\n",
       "    <tr>\n",
       "      <th>17</th>\n",
       "      <td>2016-12-31</td>\n",
       "      <td>5225.333</td>\n",
       "      <td>145695.0</td>\n",
       "      <td>58.831554</td>\n",
       "      <td>0.012982</td>\n",
       "      <td>0.017317</td>\n",
       "      <td>0.005006</td>\n",
       "    </tr>\n",
       "    <tr>\n",
       "      <th>18</th>\n",
       "      <td>2017-12-31</td>\n",
       "      <td>5389.858</td>\n",
       "      <td>147767.0</td>\n",
       "      <td>58.831692</td>\n",
       "      <td>0.031486</td>\n",
       "      <td>0.014221</td>\n",
       "      <td>0.000002</td>\n",
       "    </tr>\n",
       "  </tbody>\n",
       "</table>\n",
       "</div>"
      ],
      "text/plain": [
       "         Date        EU        US  Developing Markets  Pct_change EU  \\\n",
       "14 2013-12-31  4763.096  137567.0           56.976324       0.004291   \n",
       "15 2014-12-31  4906.134  140609.0           57.727242       0.030030   \n",
       "16 2015-12-31  5158.365  143215.0           58.538491       0.051411   \n",
       "17 2016-12-31  5225.333  145695.0           58.831554       0.012982   \n",
       "18 2017-12-31  5389.858  147767.0           58.831692       0.031486   \n",
       "\n",
       "    Pct_change US  Pct_change DM  \n",
       "14       0.016883       0.008848  \n",
       "15       0.022113       0.013179  \n",
       "16       0.018534       0.014053  \n",
       "17       0.017317       0.005006  \n",
       "18       0.014221       0.000002  "
      ]
     },
     "execution_count": 97,
     "metadata": {},
     "output_type": "execute_result"
    }
   ],
   "source": [
    "final_df.tail()"
   ]
  },
  {
   "cell_type": "markdown",
   "metadata": {},
   "source": [
    "# 3. BIC KEY Figures:\n",
    "source [BIC Investor Kit](https://www.bicworld.com/en/investors/key-figures) - Manually extracted each data entry from the website."
   ]
  },
  {
   "cell_type": "markdown",
   "metadata": {},
   "source": [
    "### 3.1 Net Sales by Region:"
   ]
  },
  {
   "cell_type": "code",
   "execution_count": 101,
   "metadata": {},
   "outputs": [
    {
     "data": {
      "text/html": [
       "<div>\n",
       "<style scoped>\n",
       "    .dataframe tbody tr th:only-of-type {\n",
       "        vertical-align: middle;\n",
       "    }\n",
       "\n",
       "    .dataframe tbody tr th {\n",
       "        vertical-align: top;\n",
       "    }\n",
       "\n",
       "    .dataframe thead th {\n",
       "        text-align: right;\n",
       "    }\n",
       "</style>\n",
       "<table border=\"1\" class=\"dataframe\">\n",
       "  <thead>\n",
       "    <tr style=\"text-align: right;\">\n",
       "      <th></th>\n",
       "      <th>Date</th>\n",
       "      <th>EU_Net Sales(Mi$)</th>\n",
       "      <th>NorthAmerica_Net Sales(Mi$)</th>\n",
       "      <th>DevelopingMarkets_Net Sales(Mi$)</th>\n",
       "    </tr>\n",
       "  </thead>\n",
       "  <tbody>\n",
       "    <tr>\n",
       "      <th>0</th>\n",
       "      <td>2016</td>\n",
       "      <td>545</td>\n",
       "      <td>812</td>\n",
       "      <td>669</td>\n",
       "    </tr>\n",
       "    <tr>\n",
       "      <th>1</th>\n",
       "      <td>2017</td>\n",
       "      <td>559</td>\n",
       "      <td>784</td>\n",
       "      <td>677</td>\n",
       "    </tr>\n",
       "    <tr>\n",
       "      <th>2</th>\n",
       "      <td>2018</td>\n",
       "      <td>560</td>\n",
       "      <td>766</td>\n",
       "      <td>625</td>\n",
       "    </tr>\n",
       "  </tbody>\n",
       "</table>\n",
       "</div>"
      ],
      "text/plain": [
       "   Date  EU_Net Sales(Mi$)  NorthAmerica_Net Sales(Mi$)  \\\n",
       "0  2016                545                          812   \n",
       "1  2017                559                          784   \n",
       "2  2018                560                          766   \n",
       "\n",
       "   DevelopingMarkets_Net Sales(Mi$)  \n",
       "0                               669  \n",
       "1                               677  \n",
       "2                               625  "
      ]
     },
     "execution_count": 101,
     "metadata": {},
     "output_type": "execute_result"
    }
   ],
   "source": [
    "d = {\"Date\": [\"2016\", \"2017\", \"2018\"], 'EU_Net Sales(Mi$)': [545, 559, 560], 'NorthAmerica_Net Sales(Mi$)': [812, 784, 766],'DevelopingMarkets_Net Sales(Mi$)': [669, 677,625]}\n",
    "df = pd.DataFrame(d)\n",
    "df"
   ]
  },
  {
   "cell_type": "code",
   "execution_count": 114,
   "metadata": {},
   "outputs": [],
   "source": [
    "df[\"Pct_change EU\"] = df[\"EU_Net Sales(Mi$)\"].pct_change()\n",
    "df[\"Pct_change NA\"] = df[\"NorthAmerica_Net Sales(Mi$)\"].pct_change()\n",
    "df[\"Pct_change DM\"] = df[\"DevelopingMarkets_Net Sales(Mi$)\"].pct_change()"
   ]
  },
  {
   "cell_type": "code",
   "execution_count": 123,
   "metadata": {},
   "outputs": [],
   "source": [
    "from matplotlib.pyplot import cm\n",
    "import numpy as np"
   ]
  },
  {
   "cell_type": "code",
   "execution_count": 143,
   "metadata": {},
   "outputs": [
    {
     "data": {
      "image/png": "[encoded data removed]",
      "text/plain": [
       "<Figure size 432x288 with 2 Axes>"
      ]
     },
     "metadata": {},
     "output_type": "display_data"
    }
   ],
   "source": [
    "ax = df.plot(kind = \"bar\", x = \"Date\", y = [\"EU_Net Sales(Mi$)\", \"NorthAmerica_Net Sales(Mi$)\", \"DevelopingMarkets_Net Sales(Mi$)\"], legend = True)\n",
    "plt.legend(loc = \"lower right\", bbox_to_anchor=(1.3, 0.1, 0.5, 0.5))\n",
    "ax2 = ax.twinx()\n",
    "df.plot(kind = \"line\", x = \"Date\", y=[\"Pct_change EU\",\"Pct_change NA\", \"Pct_change DM\"], ax=ax2, legend=False, color = cm.rainbow(np.linspace(0,1,3)) , linewidth = 2.5, linestyle = \"--\")\n",
    "plt.axhline(0.0, color = \"k\" , linewidth = 2.5, linestyle = \"--\")\n",
    "\n",
    "\n",
    "plt.legend(loc = \"best\", bbox_to_anchor=(1, 0.5, 0.5, 0.5))\n",
    "plt.title(\"Bic Net Sales Revenue across 3 Main Markets (2016-2018)\")\n",
    "plt.show()"
   ]
  },
  {
   "cell_type": "markdown",
   "metadata": {},
   "source": [
    "### 3.2 Net Sales by Category:"
   ]
  },
  {
   "cell_type": "markdown",
   "metadata": {},
   "source": [
    "We repeat the same procedure as we did for the Net sales by Region dataset."
   ]
  },
  {
   "cell_type": "code",
   "execution_count": 145,
   "metadata": {},
   "outputs": [
    {
     "data": {
      "text/html": [
       "<div>\n",
       "<style scoped>\n",
       "    .dataframe tbody tr th:only-of-type {\n",
       "        vertical-align: middle;\n",
       "    }\n",
       "\n",
       "    .dataframe tbody tr th {\n",
       "        vertical-align: top;\n",
       "    }\n",
       "\n",
       "    .dataframe thead th {\n",
       "        text-align: right;\n",
       "    }\n",
       "</style>\n",
       "<table border=\"1\" class=\"dataframe\">\n",
       "  <thead>\n",
       "    <tr style=\"text-align: right;\">\n",
       "      <th></th>\n",
       "      <th>Date</th>\n",
       "      <th>Stationery_Net_Sales(Mi$)</th>\n",
       "      <th>Lighters_Net_Sales(Mi$)</th>\n",
       "      <th>Shavers_Net_Sales(Mi$)</th>\n",
       "      <th>Other_Products_Net_Sales(Mi$)</th>\n",
       "    </tr>\n",
       "  </thead>\n",
       "  <tbody>\n",
       "    <tr>\n",
       "      <th>0</th>\n",
       "      <td>2016</td>\n",
       "      <td>771.9</td>\n",
       "      <td>685.8</td>\n",
       "      <td>438.0</td>\n",
       "      <td>54.0</td>\n",
       "    </tr>\n",
       "    <tr>\n",
       "      <th>1</th>\n",
       "      <td>2017</td>\n",
       "      <td>791.8</td>\n",
       "      <td>703.9</td>\n",
       "      <td>454.4</td>\n",
       "      <td>70.2</td>\n",
       "    </tr>\n",
       "    <tr>\n",
       "      <th>2</th>\n",
       "      <td>2018</td>\n",
       "      <td>780.3</td>\n",
       "      <td>696.4</td>\n",
       "      <td>467.0</td>\n",
       "      <td>82.1</td>\n",
       "    </tr>\n",
       "  </tbody>\n",
       "</table>\n",
       "</div>"
      ],
      "text/plain": [
       "   Date  Stationery_Net_Sales(Mi$)  Lighters_Net_Sales(Mi$)  \\\n",
       "0  2016                      771.9                    685.8   \n",
       "1  2017                      791.8                    703.9   \n",
       "2  2018                      780.3                    696.4   \n",
       "\n",
       "   Shavers_Net_Sales(Mi$)  Other_Products_Net_Sales(Mi$)  \n",
       "0                   438.0                           54.0  \n",
       "1                   454.4                           70.2  \n",
       "2                   467.0                           82.1  "
      ]
     },
     "execution_count": 145,
     "metadata": {},
     "output_type": "execute_result"
    }
   ],
   "source": [
    "data = {\"Date\": [\"2016\", \"2017\", \"2018\"], \n",
    "        'Stationery_Net_Sales(Mi$)': [771.9, 791.8, 780.3], \n",
    "        'Lighters_Net_Sales(Mi$)': [685.8, 703.9, 696.4],\n",
    "        'Shavers_Net_Sales(Mi$)': [438.0, 454.4,467.0], \n",
    "        'Other_Products_Net_Sales(Mi$)': [54.0, 70.2, 82.1]}\n",
    "df = pd.DataFrame(data)\n",
    "df"
   ]
  },
  {
   "cell_type": "code",
   "execution_count": 147,
   "metadata": {},
   "outputs": [],
   "source": [
    "df[\"Pct_change Stationery\"] = df[\"Stationery_Net_Sales(Mi$)\"].pct_change()\n",
    "df[\"Pct_change Lighters\"] = df[\"Lighters_Net_Sales(Mi$)\"].pct_change()\n",
    "df[\"Pct_change Shavers\"] = df[\"Shavers_Net_Sales(Mi$)\"].pct_change()\n",
    "df[\"Pct_change Other Products\"] = df[\"Other_Products_Net_Sales(Mi$)\"].pct_change()\n"
   ]
  },
  {
   "cell_type": "code",
   "execution_count": 155,
   "metadata": {
    "collapsed": true
   },
   "outputs": [
    {
     "data": {
      "text/html": [
       "<div>\n",
       "<style scoped>\n",
       "    .dataframe tbody tr th:only-of-type {\n",
       "        vertical-align: middle;\n",
       "    }\n",
       "\n",
       "    .dataframe tbody tr th {\n",
       "        vertical-align: top;\n",
       "    }\n",
       "\n",
       "    .dataframe thead th {\n",
       "        text-align: right;\n",
       "    }\n",
       "</style>\n",
       "<table border=\"1\" class=\"dataframe\">\n",
       "  <thead>\n",
       "    <tr style=\"text-align: right;\">\n",
       "      <th></th>\n",
       "      <th>Date</th>\n",
       "      <th>Stationery_Net_Sales(Mi$)</th>\n",
       "      <th>Lighters_Net_Sales(Mi$)</th>\n",
       "      <th>Shavers_Net_Sales(Mi$)</th>\n",
       "      <th>Other_Products_Net_Sales(Mi$)</th>\n",
       "      <th>Pct_change Stationery</th>\n",
       "      <th>Pct_change Lighters</th>\n",
       "      <th>Pct_change Shavers</th>\n",
       "      <th>Pct_change Other Products</th>\n",
       "    </tr>\n",
       "  </thead>\n",
       "  <tbody>\n",
       "    <tr>\n",
       "      <th>0</th>\n",
       "      <td>2016</td>\n",
       "      <td>771.9</td>\n",
       "      <td>685.8</td>\n",
       "      <td>438.0</td>\n",
       "      <td>54.0</td>\n",
       "      <td>NaN</td>\n",
       "      <td>NaN</td>\n",
       "      <td>NaN</td>\n",
       "      <td>NaN</td>\n",
       "    </tr>\n",
       "    <tr>\n",
       "      <th>1</th>\n",
       "      <td>2017</td>\n",
       "      <td>791.8</td>\n",
       "      <td>703.9</td>\n",
       "      <td>454.4</td>\n",
       "      <td>70.2</td>\n",
       "      <td>0.025781</td>\n",
       "      <td>0.026393</td>\n",
       "      <td>0.037443</td>\n",
       "      <td>0.300000</td>\n",
       "    </tr>\n",
       "    <tr>\n",
       "      <th>2</th>\n",
       "      <td>2018</td>\n",
       "      <td>780.3</td>\n",
       "      <td>696.4</td>\n",
       "      <td>467.0</td>\n",
       "      <td>82.1</td>\n",
       "      <td>-0.014524</td>\n",
       "      <td>-0.010655</td>\n",
       "      <td>0.027729</td>\n",
       "      <td>0.169516</td>\n",
       "    </tr>\n",
       "  </tbody>\n",
       "</table>\n",
       "</div>"
      ],
      "text/plain": [
       "   Date  Stationery_Net_Sales(Mi$)  Lighters_Net_Sales(Mi$)  \\\n",
       "0  2016                      771.9                    685.8   \n",
       "1  2017                      791.8                    703.9   \n",
       "2  2018                      780.3                    696.4   \n",
       "\n",
       "   Shavers_Net_Sales(Mi$)  Other_Products_Net_Sales(Mi$)  \\\n",
       "0                   438.0                           54.0   \n",
       "1                   454.4                           70.2   \n",
       "2                   467.0                           82.1   \n",
       "\n",
       "   Pct_change Stationery  Pct_change Lighters  Pct_change Shavers  \\\n",
       "0                    NaN                  NaN                 NaN   \n",
       "1               0.025781             0.026393            0.037443   \n",
       "2              -0.014524            -0.010655            0.027729   \n",
       "\n",
       "   Pct_change Other Products  \n",
       "0                        NaN  \n",
       "1                   0.300000  \n",
       "2                   0.169516  "
      ]
     },
     "execution_count": 155,
     "metadata": {},
     "output_type": "execute_result"
    }
   ],
   "source": [
    "df"
   ]
  },
  {
   "cell_type": "code",
   "execution_count": 154,
   "metadata": {},
   "outputs": [
    {
     "data": {
      "image/png": "[encoded data removed]",
      "text/plain": [
       "<Figure size 432x288 with 2 Axes>"
      ]
     },
     "metadata": {},
     "output_type": "display_data"
    }
   ],
   "source": [
    "ax = df.plot(kind = \"bar\", x = \"Date\", y = [\"Stationery_Net_Sales(Mi$)\", \"Lighters_Net_Sales(Mi$)\", \"Shavers_Net_Sales(Mi$)\", \"Other_Products_Net_Sales(Mi$)\" ], legend = True)\n",
    "plt.legend(loc = \"lower right\", bbox_to_anchor=(1.3, 0.1, 0.5, 0.5))\n",
    "ax2 = ax.twinx()\n",
    "df.plot(kind = \"line\", x = \"Date\", y=[\"Pct_change Stationery\",\"Pct_change Lighters\", \"Pct_change Shavers\", \"Pct_change Other Products\"], ax=ax2, legend=False, color = cm.rainbow(np.linspace(0,1,3)) , linewidth = 2.5, linestyle = \"--\")\n",
    "plt.axhline(0.0, color = \"k\" , linewidth = 2.5, linestyle = \"--\")\n",
    "\n",
    "\n",
    "plt.legend(loc = \"best\", bbox_to_anchor=(1.23, 0.5, 0.5, 0.5))\n",
    "plt.title(\"Bic Net Sales Revenue across 4 Main Product Groups (2016-2018)\")\n",
    "plt.show()"
   ]
  },
  {
   "cell_type": "code",
   "execution_count": null,
   "metadata": {},
   "outputs": [],
   "source": []
  }
 ],
 "metadata": {
  "kernelspec": {
   "display_name": "Python 3",
   "language": "python",
   "name": "python3"
  },
  "language_info": {
   "codemirror_mode": {
    "name": "ipython",
    "version": 3
   },
   "file_extension": ".py",
   "mimetype": "text/x-python",
   "name": "python",
   "nbconvert_exporter": "python",
   "pygments_lexer": "ipython3",
   "version": "3.6.8"
  }
 },
 "nbformat": 4,
 "nbformat_minor": 2
}
