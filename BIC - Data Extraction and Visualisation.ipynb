{
 "cells": [
  {
   "cell_type": "markdown",
   "metadata": {},
   "source": [
    "# 1. Importing Libraries"
   ]
  },
  {
   "cell_type": "code",
   "execution_count": 9,
   "metadata": {},
   "outputs": [],
   "source": [
    "import pandas as pd\n",
    "import matplotlib.pyplot as plt\n",
    "import quandl\n",
    "from matplotlib.pyplot import cm\n",
    "import numpy as np\n",
    "import seaborn as sns\n",
    "%matplotlib inline"
   ]
  },
  {
   "cell_type": "markdown",
   "metadata": {},
   "source": [
    "# 2. Importing the data through quandl API\n"
   ]
  },
  {
   "cell_type": "markdown",
   "metadata": {},
   "source": [
    "### 2.1 All Employees: Total Nonfarm Payrolls\n",
    "source: [FRED](https://www.quandl.com/data/FRED/PAYEMS-All-Employees-Total-Nonfarm-Payrolls) - Accessed via personal quandl API account."
   ]
  },
  {
   "cell_type": "code",
   "execution_count": null,
   "metadata": {},
   "outputs": [],
   "source": [
    "nfp = quandl.get(\"FRED/PAYEMS\", authtoken=\"nPJTgF6X2H2LLcDqJ8W8\", index = True)\n",
    "nfp.reset_index(inplace = True)\n",
    "nfp.head()"
   ]
  },
  {
   "cell_type": "markdown",
   "metadata": {},
   "source": [
    "### 2.2 Gross wages and salaries: households and NPISH Country: European Union (15 countries):\n",
    "source : [EU Commission Annual Macro Database](https://www.quandl.com/data/AMECO/EU15_1_0_99_0_UWSH-Gross-wages-and-salaries-households-and-NPISH-Mrd-ECU-EUR-Standard-aggregation-European-Union-15-countries) - Accessed via personal quandl API account."
   ]
  },
  {
   "cell_type": "code",
   "execution_count": 19,
   "metadata": {},
   "outputs": [],
   "source": [
    "seu = quandl.get(\"AMECO/EU15_1_0_99_0_UWSH\", authtoken = \"nPJTgF6X2H2LLcDqJ8W8\")\n",
    "seu.reset_index(inplace = True)\n",
    "seu.head()"
   ]
  },
  {
   "cell_type": "markdown",
   "metadata": {},
   "source": [
    "### 2.3 Wage and salaried workers, total (% of total employed) - East Asia & Pacific (developing only).\n",
    "source : [World Bank](https://www.quandl.com/data/WWDI/EAP_SL_EMP_WORK_ZS-Wage-and-salaried-workers-total-of-total-employed-East-Asia-Pacific-developing-only) - Accessed via personal quandl API account."
   ]
  },
  {
   "cell_type": "code",
   "execution_count": 18,
   "metadata": {},
   "outputs": [],
   "source": [
    "eap = quandl.get(\"WWDI/EAP_SL_EMP_WORK_ZS\", authtoken=\"nPJTgF6X2H2LLcDqJ8W8\")\n",
    "eap.reset_index(inplace = True)\n",
    "eap.head()"
   ]
  },
  {
   "cell_type": "markdown",
   "metadata": {},
   "source": [
    "Now that we have 3 datasets that give us a clear indication of salary levels across 3 major markets: North American, European  & Asian. Let's now merge the 3 datasets into a unique dataset by using the \"Date\" parameter as an index.\n",
    "Let's try to find a starting point for our dataset by reviewing the timelines of each of the 3 separate databases:"
   ]
  },
  {
   "cell_type": "code",
   "execution_count": 25,
   "metadata": {},
   "outputs": [
    {
     "data": {
      "text/html": [
       "<div>\n",
       "<style scoped>\n",
       "    .dataframe tbody tr th:only-of-type {\n",
       "        vertical-align: middle;\n",
       "    }\n",
       "\n",
       "    .dataframe tbody tr th {\n",
       "        vertical-align: top;\n",
       "    }\n",
       "\n",
       "    .dataframe thead th {\n",
       "        text-align: right;\n",
       "    }\n",
       "</style>\n",
       "<table border=\"1\" class=\"dataframe\">\n",
       "  <thead>\n",
       "    <tr style=\"text-align: right;\">\n",
       "      <th></th>\n",
       "      <th>Date</th>\n",
       "      <th>Value</th>\n",
       "    </tr>\n",
       "  </thead>\n",
       "  <tbody>\n",
       "    <tr>\n",
       "      <th>0</th>\n",
       "      <td>1939-01-01</td>\n",
       "      <td>29923.0</td>\n",
       "    </tr>\n",
       "    <tr>\n",
       "      <th>1</th>\n",
       "      <td>1939-02-01</td>\n",
       "      <td>30100.0</td>\n",
       "    </tr>\n",
       "    <tr>\n",
       "      <th>2</th>\n",
       "      <td>1939-03-01</td>\n",
       "      <td>30280.0</td>\n",
       "    </tr>\n",
       "    <tr>\n",
       "      <th>3</th>\n",
       "      <td>1939-04-01</td>\n",
       "      <td>30094.0</td>\n",
       "    </tr>\n",
       "    <tr>\n",
       "      <th>4</th>\n",
       "      <td>1939-05-01</td>\n",
       "      <td>30299.0</td>\n",
       "    </tr>\n",
       "  </tbody>\n",
       "</table>\n",
       "</div>"
      ],
      "text/plain": [
       "        Date    Value\n",
       "0 1939-01-01  29923.0\n",
       "1 1939-02-01  30100.0\n",
       "2 1939-03-01  30280.0\n",
       "3 1939-04-01  30094.0\n",
       "4 1939-05-01  30299.0"
      ]
     },
     "execution_count": 25,
     "metadata": {},
     "output_type": "execute_result"
    }
   ],
   "source": [
    "nfp.head()"
   ]
  },
  {
   "cell_type": "code",
   "execution_count": 26,
   "metadata": {},
   "outputs": [
    {
     "data": {
      "text/html": [
       "<div>\n",
       "<style scoped>\n",
       "    .dataframe tbody tr th:only-of-type {\n",
       "        vertical-align: middle;\n",
       "    }\n",
       "\n",
       "    .dataframe tbody tr th {\n",
       "        vertical-align: top;\n",
       "    }\n",
       "\n",
       "    .dataframe thead th {\n",
       "        text-align: right;\n",
       "    }\n",
       "</style>\n",
       "<table border=\"1\" class=\"dataframe\">\n",
       "  <thead>\n",
       "    <tr style=\"text-align: right;\">\n",
       "      <th></th>\n",
       "      <th>Date</th>\n",
       "      <th>Value</th>\n",
       "    </tr>\n",
       "  </thead>\n",
       "  <tbody>\n",
       "    <tr>\n",
       "      <th>0</th>\n",
       "      <td>1999-12-31</td>\n",
       "      <td>3279.442</td>\n",
       "    </tr>\n",
       "    <tr>\n",
       "      <th>1</th>\n",
       "      <td>2000-12-31</td>\n",
       "      <td>3526.697</td>\n",
       "    </tr>\n",
       "    <tr>\n",
       "      <th>2</th>\n",
       "      <td>2001-12-31</td>\n",
       "      <td>3677.134</td>\n",
       "    </tr>\n",
       "    <tr>\n",
       "      <th>3</th>\n",
       "      <td>2002-12-31</td>\n",
       "      <td>3790.711</td>\n",
       "    </tr>\n",
       "    <tr>\n",
       "      <th>4</th>\n",
       "      <td>2003-12-31</td>\n",
       "      <td>3816.880</td>\n",
       "    </tr>\n",
       "  </tbody>\n",
       "</table>\n",
       "</div>"
      ],
      "text/plain": [
       "        Date     Value\n",
       "0 1999-12-31  3279.442\n",
       "1 2000-12-31  3526.697\n",
       "2 2001-12-31  3677.134\n",
       "3 2002-12-31  3790.711\n",
       "4 2003-12-31  3816.880"
      ]
     },
     "execution_count": 26,
     "metadata": {},
     "output_type": "execute_result"
    }
   ],
   "source": [
    "seu.head()"
   ]
  },
  {
   "cell_type": "code",
   "execution_count": 27,
   "metadata": {},
   "outputs": [
    {
     "data": {
      "text/html": [
       "<div>\n",
       "<style scoped>\n",
       "    .dataframe tbody tr th:only-of-type {\n",
       "        vertical-align: middle;\n",
       "    }\n",
       "\n",
       "    .dataframe tbody tr th {\n",
       "        vertical-align: top;\n",
       "    }\n",
       "\n",
       "    .dataframe thead th {\n",
       "        text-align: right;\n",
       "    }\n",
       "</style>\n",
       "<table border=\"1\" class=\"dataframe\">\n",
       "  <thead>\n",
       "    <tr style=\"text-align: right;\">\n",
       "      <th></th>\n",
       "      <th>Date</th>\n",
       "      <th>Value</th>\n",
       "    </tr>\n",
       "  </thead>\n",
       "  <tbody>\n",
       "    <tr>\n",
       "      <th>0</th>\n",
       "      <td>1991-12-31</td>\n",
       "      <td>31.530660</td>\n",
       "    </tr>\n",
       "    <tr>\n",
       "      <th>1</th>\n",
       "      <td>1992-12-31</td>\n",
       "      <td>32.617429</td>\n",
       "    </tr>\n",
       "    <tr>\n",
       "      <th>2</th>\n",
       "      <td>1993-12-31</td>\n",
       "      <td>34.704702</td>\n",
       "    </tr>\n",
       "    <tr>\n",
       "      <th>3</th>\n",
       "      <td>1994-12-31</td>\n",
       "      <td>36.531395</td>\n",
       "    </tr>\n",
       "    <tr>\n",
       "      <th>4</th>\n",
       "      <td>1995-12-31</td>\n",
       "      <td>38.396728</td>\n",
       "    </tr>\n",
       "  </tbody>\n",
       "</table>\n",
       "</div>"
      ],
      "text/plain": [
       "        Date      Value\n",
       "0 1991-12-31  31.530660\n",
       "1 1992-12-31  32.617429\n",
       "2 1993-12-31  34.704702\n",
       "3 1994-12-31  36.531395\n",
       "4 1995-12-31  38.396728"
      ]
     },
     "execution_count": 27,
     "metadata": {},
     "output_type": "execute_result"
    }
   ],
   "source": [
    "eap.head()"
   ]
  },
  {
   "cell_type": "markdown",
   "metadata": {},
   "source": [
    "We notice that the latest starting date of each of the 3 dataframes is \"1999-12-31\" (EU wage salaries). This makes sense as both EU and Euro as a currency do not date back as far in the past. \n",
    "\n",
    "We now merge the 3 datasets using the EU wages's timeline as an index:"
   ]
  },
  {
   "cell_type": "code",
   "execution_count": 43,
   "metadata": {},
   "outputs": [],
   "source": [
    "seu[\"Date\"] = seu[\"Date\"] + np.timedelta64(1,'D')\n",
    "# We added one day to the EU dataframe to normalise the numbers across the two datasets:\n",
    "# One can notice that the EU dataset is always realeased at month's and meanwhile the US at month's start"
   ]
  },
  {
   "cell_type": "code",
   "execution_count": 50,
   "metadata": {},
   "outputs": [],
   "source": [
    "new_df = seu.merge(nfp, how = \"left\", on = \"Date\")\n",
    "# Again we have to normalise the date for merging purposes:\n",
    "\n",
    "new_df[\"Date\"] = new_df[\"Date\"] - np.timedelta64(1,'D')\n",
    "final_df = new_df.merge(eap,how = \"left\", on = \"Date\")"
   ]
  },
  {
   "cell_type": "code",
   "execution_count": 52,
   "metadata": {},
   "outputs": [
    {
     "data": {
      "text/html": [
       "<div>\n",
       "<style scoped>\n",
       "    .dataframe tbody tr th:only-of-type {\n",
       "        vertical-align: middle;\n",
       "    }\n",
       "\n",
       "    .dataframe tbody tr th {\n",
       "        vertical-align: top;\n",
       "    }\n",
       "\n",
       "    .dataframe thead th {\n",
       "        text-align: right;\n",
       "    }\n",
       "</style>\n",
       "<table border=\"1\" class=\"dataframe\">\n",
       "  <thead>\n",
       "    <tr style=\"text-align: right;\">\n",
       "      <th></th>\n",
       "      <th>Date</th>\n",
       "      <th>Value_x</th>\n",
       "      <th>Value_y</th>\n",
       "      <th>Value</th>\n",
       "    </tr>\n",
       "  </thead>\n",
       "  <tbody>\n",
       "    <tr>\n",
       "      <th>0</th>\n",
       "      <td>1999-12-31</td>\n",
       "      <td>3279.442</td>\n",
       "      <td>131020.0</td>\n",
       "      <td>41.414897</td>\n",
       "    </tr>\n",
       "    <tr>\n",
       "      <th>1</th>\n",
       "      <td>2000-12-31</td>\n",
       "      <td>3526.697</td>\n",
       "      <td>132712.0</td>\n",
       "      <td>42.047554</td>\n",
       "    </tr>\n",
       "    <tr>\n",
       "      <th>2</th>\n",
       "      <td>2001-12-31</td>\n",
       "      <td>3677.134</td>\n",
       "      <td>130868.0</td>\n",
       "      <td>42.861365</td>\n",
       "    </tr>\n",
       "    <tr>\n",
       "      <th>3</th>\n",
       "      <td>2002-12-31</td>\n",
       "      <td>3790.711</td>\n",
       "      <td>130596.0</td>\n",
       "      <td>43.633658</td>\n",
       "    </tr>\n",
       "    <tr>\n",
       "      <th>4</th>\n",
       "      <td>2003-12-31</td>\n",
       "      <td>3816.880</td>\n",
       "      <td>130787.0</td>\n",
       "      <td>44.809019</td>\n",
       "    </tr>\n",
       "  </tbody>\n",
       "</table>\n",
       "</div>"
      ],
      "text/plain": [
       "        Date   Value_x   Value_y      Value\n",
       "0 1999-12-31  3279.442  131020.0  41.414897\n",
       "1 2000-12-31  3526.697  132712.0  42.047554\n",
       "2 2001-12-31  3677.134  130868.0  42.861365\n",
       "3 2002-12-31  3790.711  130596.0  43.633658\n",
       "4 2003-12-31  3816.880  130787.0  44.809019"
      ]
     },
     "execution_count": 52,
     "metadata": {},
     "output_type": "execute_result"
    }
   ],
   "source": [
    "final_df.head()"
   ]
  },
  {
   "cell_type": "markdown",
   "metadata": {},
   "source": [
    "We now rename our 3 datasets according to their respective markets:\n",
    "    - Value_x = EU\n",
    "    - Value_y = US\n",
    "    - Value = DM (Developing Markets)"
   ]
  },
  {
   "cell_type": "code",
   "execution_count": 58,
   "metadata": {},
   "outputs": [],
   "source": [
    "final_df.rename(columns = {\"Value_x\":\"EU\", \"Value_y\":\"US\",\"Value\":\"DM\"}, inplace = True)"
   ]
  },
  {
   "cell_type": "code",
   "execution_count": 59,
   "metadata": {},
   "outputs": [
    {
     "data": {
      "text/html": [
       "<div>\n",
       "<style scoped>\n",
       "    .dataframe tbody tr th:only-of-type {\n",
       "        vertical-align: middle;\n",
       "    }\n",
       "\n",
       "    .dataframe tbody tr th {\n",
       "        vertical-align: top;\n",
       "    }\n",
       "\n",
       "    .dataframe thead th {\n",
       "        text-align: right;\n",
       "    }\n",
       "</style>\n",
       "<table border=\"1\" class=\"dataframe\">\n",
       "  <thead>\n",
       "    <tr style=\"text-align: right;\">\n",
       "      <th></th>\n",
       "      <th>Date</th>\n",
       "      <th>EU</th>\n",
       "      <th>US</th>\n",
       "      <th>Developing Markets</th>\n",
       "    </tr>\n",
       "  </thead>\n",
       "  <tbody>\n",
       "    <tr>\n",
       "      <th>0</th>\n",
       "      <td>1999-12-31</td>\n",
       "      <td>3279.442</td>\n",
       "      <td>131020.0</td>\n",
       "      <td>41.414897</td>\n",
       "    </tr>\n",
       "    <tr>\n",
       "      <th>1</th>\n",
       "      <td>2000-12-31</td>\n",
       "      <td>3526.697</td>\n",
       "      <td>132712.0</td>\n",
       "      <td>42.047554</td>\n",
       "    </tr>\n",
       "    <tr>\n",
       "      <th>2</th>\n",
       "      <td>2001-12-31</td>\n",
       "      <td>3677.134</td>\n",
       "      <td>130868.0</td>\n",
       "      <td>42.861365</td>\n",
       "    </tr>\n",
       "    <tr>\n",
       "      <th>3</th>\n",
       "      <td>2002-12-31</td>\n",
       "      <td>3790.711</td>\n",
       "      <td>130596.0</td>\n",
       "      <td>43.633658</td>\n",
       "    </tr>\n",
       "    <tr>\n",
       "      <th>4</th>\n",
       "      <td>2003-12-31</td>\n",
       "      <td>3816.880</td>\n",
       "      <td>130787.0</td>\n",
       "      <td>44.809019</td>\n",
       "    </tr>\n",
       "  </tbody>\n",
       "</table>\n",
       "</div>"
      ],
      "text/plain": [
       "        Date        EU        US  Developing Markets\n",
       "0 1999-12-31  3279.442  131020.0           41.414897\n",
       "1 2000-12-31  3526.697  132712.0           42.047554\n",
       "2 2001-12-31  3677.134  130868.0           42.861365\n",
       "3 2002-12-31  3790.711  130596.0           43.633658\n",
       "4 2003-12-31  3816.880  130787.0           44.809019"
      ]
     },
     "execution_count": 59,
     "metadata": {},
     "output_type": "execute_result"
    }
   ],
   "source": [
    "final_df.head()"
   ]
  },
  {
   "cell_type": "markdown",
   "metadata": {},
   "source": [
    "Now we need to use the vectorised properties of a Dataframe to calculate the percentage change year on year:"
   ]
  },
  {
   "cell_type": "code",
   "execution_count": 62,
   "metadata": {},
   "outputs": [],
   "source": [
    "final_df[\"Pct_change EU\"] = final_df[\"EU\"].pct_change()\n",
    "final_df[\"Pct_change US\"] = final_df[\"US\"].pct_change()\n",
    "final_df[\"Pct_change DM\"] = final_df[\"Developing Markets\"].pct_change()"
   ]
  },
  {
   "cell_type": "code",
   "execution_count": 64,
   "metadata": {},
   "outputs": [
    {
     "data": {
      "text/html": [
       "<div>\n",
       "<style scoped>\n",
       "    .dataframe tbody tr th:only-of-type {\n",
       "        vertical-align: middle;\n",
       "    }\n",
       "\n",
       "    .dataframe tbody tr th {\n",
       "        vertical-align: top;\n",
       "    }\n",
       "\n",
       "    .dataframe thead th {\n",
       "        text-align: right;\n",
       "    }\n",
       "</style>\n",
       "<table border=\"1\" class=\"dataframe\">\n",
       "  <thead>\n",
       "    <tr style=\"text-align: right;\">\n",
       "      <th></th>\n",
       "      <th>Date</th>\n",
       "      <th>EU</th>\n",
       "      <th>US</th>\n",
       "      <th>Developing Markets</th>\n",
       "      <th>Pct_change EU</th>\n",
       "      <th>Pct_change US</th>\n",
       "      <th>Pct_change DM</th>\n",
       "    </tr>\n",
       "  </thead>\n",
       "  <tbody>\n",
       "    <tr>\n",
       "      <th>0</th>\n",
       "      <td>1999-12-31</td>\n",
       "      <td>3279.442</td>\n",
       "      <td>131020.0</td>\n",
       "      <td>41.414897</td>\n",
       "      <td>NaN</td>\n",
       "      <td>NaN</td>\n",
       "      <td>NaN</td>\n",
       "    </tr>\n",
       "    <tr>\n",
       "      <th>1</th>\n",
       "      <td>2000-12-31</td>\n",
       "      <td>3526.697</td>\n",
       "      <td>132712.0</td>\n",
       "      <td>42.047554</td>\n",
       "      <td>0.075395</td>\n",
       "      <td>0.012914</td>\n",
       "      <td>0.015276</td>\n",
       "    </tr>\n",
       "    <tr>\n",
       "      <th>2</th>\n",
       "      <td>2001-12-31</td>\n",
       "      <td>3677.134</td>\n",
       "      <td>130868.0</td>\n",
       "      <td>42.861365</td>\n",
       "      <td>0.042657</td>\n",
       "      <td>-0.013895</td>\n",
       "      <td>0.019355</td>\n",
       "    </tr>\n",
       "    <tr>\n",
       "      <th>3</th>\n",
       "      <td>2002-12-31</td>\n",
       "      <td>3790.711</td>\n",
       "      <td>130596.0</td>\n",
       "      <td>43.633658</td>\n",
       "      <td>0.030887</td>\n",
       "      <td>-0.002078</td>\n",
       "      <td>0.018018</td>\n",
       "    </tr>\n",
       "    <tr>\n",
       "      <th>4</th>\n",
       "      <td>2003-12-31</td>\n",
       "      <td>3816.880</td>\n",
       "      <td>130787.0</td>\n",
       "      <td>44.809019</td>\n",
       "      <td>0.006903</td>\n",
       "      <td>0.001463</td>\n",
       "      <td>0.026937</td>\n",
       "    </tr>\n",
       "  </tbody>\n",
       "</table>\n",
       "</div>"
      ],
      "text/plain": [
       "        Date        EU        US  Developing Markets  Pct_change EU  \\\n",
       "0 1999-12-31  3279.442  131020.0           41.414897            NaN   \n",
       "1 2000-12-31  3526.697  132712.0           42.047554       0.075395   \n",
       "2 2001-12-31  3677.134  130868.0           42.861365       0.042657   \n",
       "3 2002-12-31  3790.711  130596.0           43.633658       0.030887   \n",
       "4 2003-12-31  3816.880  130787.0           44.809019       0.006903   \n",
       "\n",
       "   Pct_change US  Pct_change DM  \n",
       "0            NaN            NaN  \n",
       "1       0.012914       0.015276  \n",
       "2      -0.013895       0.019355  \n",
       "3      -0.002078       0.018018  \n",
       "4       0.001463       0.026937  "
      ]
     },
     "execution_count": 64,
     "metadata": {},
     "output_type": "execute_result"
    }
   ],
   "source": [
    "final_df.head()"
   ]
  },
  {
   "cell_type": "markdown",
   "metadata": {},
   "source": [
    "We are now left with graphically analysing the properties of the percentage changes in each market and see whether a slowdown has happened during 2018."
   ]
  },
  {
   "cell_type": "markdown",
   "metadata": {},
   "source": [
    "# 2.4 Data Visualisation"
   ]
  },
  {
   "cell_type": "code",
   "execution_count": 78,
   "metadata": {},
   "outputs": [],
   "source": [
    "plot_df = final_df[[\"Pct_change EU\", \"Pct_change US\" ,\"Pct_change DM\"]]"
   ]
  },
  {
   "cell_type": "code",
   "execution_count": 94,
   "metadata": {},
   "outputs": [
    {
     "data": {
      "image/png": "[encoded data removed]",
      "text/plain": [
       "<Figure size 432x288 with 1 Axes>"
      ]
     },
     "metadata": {},
     "output_type": "display_data"
    }
   ],
   "source": [
    "ax  = plot_df.boxplot()\n",
    "vals = ax.get_yticks()\n",
    "ax.set_yticklabels(['{:,.2%}'.format(x) for x in vals])\n",
    "plt.title(\"Pct Wage growth distribution 1999-2018\")\n",
    "plt.show()"
   ]
  },
  {
   "cell_type": "code",
   "execution_count": 88,
   "metadata": {},
   "outputs": [],
   "source": [
    "plot_df = final_df[[\"Date\", \"Pct_change EU\", \"Pct_change US\" ,\"Pct_change DM\"]]\n",
    "plot_df = plot_df[plot_df[\"Date\"] > \"2015-12-31\"]"
   ]
  },
  {
   "cell_type": "code",
   "execution_count": 96,
   "metadata": {},
   "outputs": [
    {
     "data": {
      "image/png": "[encoded data removed]",
      "text/plain": [
       "<Figure size 432x288 with 1 Axes>"
      ]
     },
     "metadata": {},
     "output_type": "display_data"
    }
   ],
   "source": [
    "ax = plot_df.plot(kind = \"line\" , x = \"Date\",linestyle='-', linewidth=2.5, drawstyle =\"steps-post\", marker = \".\" ,markersize=10)\n",
    "vals = ax.get_yticks()\n",
    "ax.set_yticklabels(['{:,.2%}'.format(x) for x in vals])\n",
    "plt.title(\"Pct Wage growth 2015-2018\")\n",
    "plt.show()\n"
   ]
  },
  {
   "cell_type": "code",
   "execution_count": 97,
   "metadata": {},
   "outputs": [
    {
     "data": {
      "text/html": [
       "<div>\n",
       "<style scoped>\n",
       "    .dataframe tbody tr th:only-of-type {\n",
       "        vertical-align: middle;\n",
       "    }\n",
       "\n",
       "    .dataframe tbody tr th {\n",
       "        vertical-align: top;\n",
       "    }\n",
       "\n",
       "    .dataframe thead th {\n",
       "        text-align: right;\n",
       "    }\n",
       "</style>\n",
       "<table border=\"1\" class=\"dataframe\">\n",
       "  <thead>\n",
       "    <tr style=\"text-align: right;\">\n",
       "      <th></th>\n",
       "      <th>Date</th>\n",
       "      <th>EU</th>\n",
       "      <th>US</th>\n",
       "      <th>Developing Markets</th>\n",
       "      <th>Pct_change EU</th>\n",
       "      <th>Pct_change US</th>\n",
       "      <th>Pct_change DM</th>\n",
       "    </tr>\n",
       "  </thead>\n",
       "  <tbody>\n",
       "    <tr>\n",
       "      <th>14</th>\n",
       "      <td>2013-12-31</td>\n",
       "      <td>4763.096</td>\n",
       "      <td>137567.0</td>\n",
       "      <td>56.976324</td>\n",
       "      <td>0.004291</td>\n",
       "      <td>0.016883</td>\n",
       "      <td>0.008848</td>\n",
       "    </tr>\n",
       "    <tr>\n",
       "      <th>15</th>\n",
       "      <td>2014-12-31</td>\n",
       "      <td>4906.134</td>\n",
       "      <td>140609.0</td>\n",
       "      <td>57.727242</td>\n",
       "      <td>0.030030</td>\n",
       "      <td>0.022113</td>\n",
       "      <td>0.013179</td>\n",
       "    </tr>\n",
       "    <tr>\n",
       "      <th>16</th>\n",
       "      <td>2015-12-31</td>\n",
       "      <td>5158.365</td>\n",
       "      <td>143215.0</td>\n",
       "      <td>58.538491</td>\n",
       "      <td>0.051411</td>\n",
       "      <td>0.018534</td>\n",
       "      <td>0.014053</td>\n",
       "    </tr>\n",
       "    <tr>\n",
       "      <th>17</th>\n",
       "      <td>2016-12-31</td>\n",
       "      <td>5225.333</td>\n",
       "      <td>145695.0</td>\n",
       "      <td>58.831554</td>\n",
       "      <td>0.012982</td>\n",
       "      <td>0.017317</td>\n",
       "      <td>0.005006</td>\n",
       "    </tr>\n",
       "    <tr>\n",
       "      <th>18</th>\n",
       "      <td>2017-12-31</td>\n",
       "      <td>5389.858</td>\n",
       "      <td>147767.0</td>\n",
       "      <td>58.831692</td>\n",
       "      <td>0.031486</td>\n",
       "      <td>0.014221</td>\n",
       "      <td>0.000002</td>\n",
       "    </tr>\n",
       "  </tbody>\n",
       "</table>\n",
       "</div>"
      ],
      "text/plain": [
       "         Date        EU        US  Developing Markets  Pct_change EU  \\\n",
       "14 2013-12-31  4763.096  137567.0           56.976324       0.004291   \n",
       "15 2014-12-31  4906.134  140609.0           57.727242       0.030030   \n",
       "16 2015-12-31  5158.365  143215.0           58.538491       0.051411   \n",
       "17 2016-12-31  5225.333  145695.0           58.831554       0.012982   \n",
       "18 2017-12-31  5389.858  147767.0           58.831692       0.031486   \n",
       "\n",
       "    Pct_change US  Pct_change DM  \n",
       "14       0.016883       0.008848  \n",
       "15       0.022113       0.013179  \n",
       "16       0.018534       0.014053  \n",
       "17       0.017317       0.005006  \n",
       "18       0.014221       0.000002  "
      ]
     },
     "execution_count": 97,
     "metadata": {},
     "output_type": "execute_result"
    }
   ],
   "source": [
    "final_df.tail()"
   ]
  },
  {
   "cell_type": "markdown",
   "metadata": {},
   "source": [
    "# 3. BIC KEY Figures:\n",
    "source [BIC Investor Kit](https://www.bicworld.com/en/investors/key-figures) - Manually extracted each data entry from the website."
   ]
  },
  {
   "cell_type": "markdown",
   "metadata": {},
   "source": [
    "### 3.1 Net Sales by Region:"
   ]
  },
  {
   "cell_type": "code",
   "execution_count": 101,
   "metadata": {},
   "outputs": [
    {
     "data": {
      "text/html": [
       "<div>\n",
       "<style scoped>\n",
       "    .dataframe tbody tr th:only-of-type {\n",
       "        vertical-align: middle;\n",
       "    }\n",
       "\n",
       "    .dataframe tbody tr th {\n",
       "        vertical-align: top;\n",
       "    }\n",
       "\n",
       "    .dataframe thead th {\n",
       "        text-align: right;\n",
       "    }\n",
       "</style>\n",
       "<table border=\"1\" class=\"dataframe\">\n",
       "  <thead>\n",
       "    <tr style=\"text-align: right;\">\n",
       "      <th></th>\n",
       "      <th>Date</th>\n",
       "      <th>EU_Net Sales(Mi$)</th>\n",
       "      <th>NorthAmerica_Net Sales(Mi$)</th>\n",
       "      <th>DevelopingMarkets_Net Sales(Mi$)</th>\n",
       "    </tr>\n",
       "  </thead>\n",
       "  <tbody>\n",
       "    <tr>\n",
       "      <th>0</th>\n",
       "      <td>2016</td>\n",
       "      <td>545</td>\n",
       "      <td>812</td>\n",
       "      <td>669</td>\n",
       "    </tr>\n",
       "    <tr>\n",
       "      <th>1</th>\n",
       "      <td>2017</td>\n",
       "      <td>559</td>\n",
       "      <td>784</td>\n",
       "      <td>677</td>\n",
       "    </tr>\n",
       "    <tr>\n",
       "      <th>2</th>\n",
       "      <td>2018</td>\n",
       "      <td>560</td>\n",
       "      <td>766</td>\n",
       "      <td>625</td>\n",
       "    </tr>\n",
       "  </tbody>\n",
       "</table>\n",
       "</div>"
      ],
      "text/plain": [
       "   Date  EU_Net Sales(Mi$)  NorthAmerica_Net Sales(Mi$)  \\\n",
       "0  2016                545                          812   \n",
       "1  2017                559                          784   \n",
       "2  2018                560                          766   \n",
       "\n",
       "   DevelopingMarkets_Net Sales(Mi$)  \n",
       "0                               669  \n",
       "1                               677  \n",
       "2                               625  "
      ]
     },
     "execution_count": 101,
     "metadata": {},
     "output_type": "execute_result"
    }
   ],
   "source": [
    "d = {\"Date\": [\"2016\", \"2017\", \"2018\"], 'EU_Net Sales(Mi$)': [545, 559, 560], 'NorthAmerica_Net Sales(Mi$)': [812, 784, 766],'DevelopingMarkets_Net Sales(Mi$)': [669, 677,625]}\n",
    "df = pd.DataFrame(d)\n",
    "df"
   ]
  },
  {
   "cell_type": "code",
   "execution_count": 114,
   "metadata": {},
   "outputs": [],
   "source": [
    "df[\"Pct_change EU\"] = df[\"EU_Net Sales(Mi$)\"].pct_change()\n",
    "df[\"Pct_change NA\"] = df[\"NorthAmerica_Net Sales(Mi$)\"].pct_change()\n",
    "df[\"Pct_change DM\"] = df[\"DevelopingMarkets_Net Sales(Mi$)\"].pct_change()"
   ]
  },
  {
   "cell_type": "code",
   "execution_count": 143,
   "metadata": {},
   "outputs": [
    {
     "data": {
      "image/png": "[encoded data removed]",
      "text/plain": [
       "<Figure size 432x288 with 2 Axes>"
      ]
     },
     "metadata": {},
     "output_type": "display_data"
    }
   ],
   "source": [
    "ax = df.plot(kind = \"bar\", x = \"Date\", y = [\"EU_Net Sales(Mi$)\", \"NorthAmerica_Net Sales(Mi$)\", \"DevelopingMarkets_Net Sales(Mi$)\"], legend = True)\n",
    "plt.legend(loc = \"lower right\", bbox_to_anchor=(1.3, 0.1, 0.5, 0.5))\n",
    "ax2 = ax.twinx()\n",
    "df.plot(kind = \"line\", x = \"Date\", y=[\"Pct_change EU\",\"Pct_change NA\", \"Pct_change DM\"], ax=ax2, legend=False, color = cm.rainbow(np.linspace(0,1,3)) , linewidth = 2.5, linestyle = \"--\")\n",
    "plt.axhline(0.0, color = \"k\" , linewidth = 2.5, linestyle = \"--\")\n",
    "\n",
    "\n",
    "plt.legend(loc = \"best\", bbox_to_anchor=(1, 0.5, 0.5, 0.5))\n",
    "plt.title(\"Bic Net Sales Revenue across 3 Main Markets (2016-2018)\")\n",
    "plt.show()"
   ]
  },
  {
   "cell_type": "markdown",
   "metadata": {},
   "source": [
    "### 3.2 Net Sales by Category:"
   ]
  },
  {
   "cell_type": "markdown",
   "metadata": {},
   "source": [
    "We repeat the same procedure as we did for the Net sales by Region dataset."
   ]
  },
  {
   "cell_type": "code",
   "execution_count": 145,
   "metadata": {},
   "outputs": [
    {
     "data": {
      "text/html": [
       "<div>\n",
       "<style scoped>\n",
       "    .dataframe tbody tr th:only-of-type {\n",
       "        vertical-align: middle;\n",
       "    }\n",
       "\n",
       "    .dataframe tbody tr th {\n",
       "        vertical-align: top;\n",
       "    }\n",
       "\n",
       "    .dataframe thead th {\n",
       "        text-align: right;\n",
       "    }\n",
       "</style>\n",
       "<table border=\"1\" class=\"dataframe\">\n",
       "  <thead>\n",
       "    <tr style=\"text-align: right;\">\n",
       "      <th></th>\n",
       "      <th>Date</th>\n",
       "      <th>Stationery_Net_Sales(Mi$)</th>\n",
       "      <th>Lighters_Net_Sales(Mi$)</th>\n",
       "      <th>Shavers_Net_Sales(Mi$)</th>\n",
       "      <th>Other_Products_Net_Sales(Mi$)</th>\n",
       "    </tr>\n",
       "  </thead>\n",
       "  <tbody>\n",
       "    <tr>\n",
       "      <th>0</th>\n",
       "      <td>2016</td>\n",
       "      <td>771.9</td>\n",
       "      <td>685.8</td>\n",
       "      <td>438.0</td>\n",
       "      <td>54.0</td>\n",
       "    </tr>\n",
       "    <tr>\n",
       "      <th>1</th>\n",
       "      <td>2017</td>\n",
       "      <td>791.8</td>\n",
       "      <td>703.9</td>\n",
       "      <td>454.4</td>\n",
       "      <td>70.2</td>\n",
       "    </tr>\n",
       "    <tr>\n",
       "      <th>2</th>\n",
       "      <td>2018</td>\n",
       "      <td>780.3</td>\n",
       "      <td>696.4</td>\n",
       "      <td>467.0</td>\n",
       "      <td>82.1</td>\n",
       "    </tr>\n",
       "  </tbody>\n",
       "</table>\n",
       "</div>"
      ],
      "text/plain": [
       "   Date  Stationery_Net_Sales(Mi$)  Lighters_Net_Sales(Mi$)  \\\n",
       "0  2016                      771.9                    685.8   \n",
       "1  2017                      791.8                    703.9   \n",
       "2  2018                      780.3                    696.4   \n",
       "\n",
       "   Shavers_Net_Sales(Mi$)  Other_Products_Net_Sales(Mi$)  \n",
       "0                   438.0                           54.0  \n",
       "1                   454.4                           70.2  \n",
       "2                   467.0                           82.1  "
      ]
     },
     "execution_count": 145,
     "metadata": {},
     "output_type": "execute_result"
    }
   ],
   "source": [
    "data = {\"Date\": [\"2016\", \"2017\", \"2018\"], \n",
    "        'Stationery_Net_Sales(Mi$)': [771.9, 791.8, 780.3], \n",
    "        'Lighters_Net_Sales(Mi$)': [685.8, 703.9, 696.4],\n",
    "        'Shavers_Net_Sales(Mi$)': [438.0, 454.4,467.0], \n",
    "        'Other_Products_Net_Sales(Mi$)': [54.0, 70.2, 82.1]}\n",
    "df = pd.DataFrame(data)\n",
    "df"
   ]
  },
  {
   "cell_type": "code",
   "execution_count": 147,
   "metadata": {},
   "outputs": [],
   "source": [
    "df[\"Pct_change Stationery\"] = df[\"Stationery_Net_Sales(Mi$)\"].pct_change()\n",
    "df[\"Pct_change Lighters\"] = df[\"Lighters_Net_Sales(Mi$)\"].pct_change()\n",
    "df[\"Pct_change Shavers\"] = df[\"Shavers_Net_Sales(Mi$)\"].pct_change()\n",
    "df[\"Pct_change Other Products\"] = df[\"Other_Products_Net_Sales(Mi$)\"].pct_change()\n"
   ]
  },
  {
   "cell_type": "code",
   "execution_count": 155,
   "metadata": {},
   "outputs": [
    {
     "data": {
      "text/html": [
       "<div>\n",
       "<style scoped>\n",
       "    .dataframe tbody tr th:only-of-type {\n",
       "        vertical-align: middle;\n",
       "    }\n",
       "\n",
       "    .dataframe tbody tr th {\n",
       "        vertical-align: top;\n",
       "    }\n",
       "\n",
       "    .dataframe thead th {\n",
       "        text-align: right;\n",
       "    }\n",
       "</style>\n",
       "<table border=\"1\" class=\"dataframe\">\n",
       "  <thead>\n",
       "    <tr style=\"text-align: right;\">\n",
       "      <th></th>\n",
       "      <th>Date</th>\n",
       "      <th>Stationery_Net_Sales(Mi$)</th>\n",
       "      <th>Lighters_Net_Sales(Mi$)</th>\n",
       "      <th>Shavers_Net_Sales(Mi$)</th>\n",
       "      <th>Other_Products_Net_Sales(Mi$)</th>\n",
       "      <th>Pct_change Stationery</th>\n",
       "      <th>Pct_change Lighters</th>\n",
       "      <th>Pct_change Shavers</th>\n",
       "      <th>Pct_change Other Products</th>\n",
       "    </tr>\n",
       "  </thead>\n",
       "  <tbody>\n",
       "    <tr>\n",
       "      <th>0</th>\n",
       "      <td>2016</td>\n",
       "      <td>771.9</td>\n",
       "      <td>685.8</td>\n",
       "      <td>438.0</td>\n",
       "      <td>54.0</td>\n",
       "      <td>NaN</td>\n",
       "      <td>NaN</td>\n",
       "      <td>NaN</td>\n",
       "      <td>NaN</td>\n",
       "    </tr>\n",
       "    <tr>\n",
       "      <th>1</th>\n",
       "      <td>2017</td>\n",
       "      <td>791.8</td>\n",
       "      <td>703.9</td>\n",
       "      <td>454.4</td>\n",
       "      <td>70.2</td>\n",
       "      <td>0.025781</td>\n",
       "      <td>0.026393</td>\n",
       "      <td>0.037443</td>\n",
       "      <td>0.300000</td>\n",
       "    </tr>\n",
       "    <tr>\n",
       "      <th>2</th>\n",
       "      <td>2018</td>\n",
       "      <td>780.3</td>\n",
       "      <td>696.4</td>\n",
       "      <td>467.0</td>\n",
       "      <td>82.1</td>\n",
       "      <td>-0.014524</td>\n",
       "      <td>-0.010655</td>\n",
       "      <td>0.027729</td>\n",
       "      <td>0.169516</td>\n",
       "    </tr>\n",
       "  </tbody>\n",
       "</table>\n",
       "</div>"
      ],
      "text/plain": [
       "   Date  Stationery_Net_Sales(Mi$)  Lighters_Net_Sales(Mi$)  \\\n",
       "0  2016                      771.9                    685.8   \n",
       "1  2017                      791.8                    703.9   \n",
       "2  2018                      780.3                    696.4   \n",
       "\n",
       "   Shavers_Net_Sales(Mi$)  Other_Products_Net_Sales(Mi$)  \\\n",
       "0                   438.0                           54.0   \n",
       "1                   454.4                           70.2   \n",
       "2                   467.0                           82.1   \n",
       "\n",
       "   Pct_change Stationery  Pct_change Lighters  Pct_change Shavers  \\\n",
       "0                    NaN                  NaN                 NaN   \n",
       "1               0.025781             0.026393            0.037443   \n",
       "2              -0.014524            -0.010655            0.027729   \n",
       "\n",
       "   Pct_change Other Products  \n",
       "0                        NaN  \n",
       "1                   0.300000  \n",
       "2                   0.169516  "
      ]
     },
     "execution_count": 155,
     "metadata": {},
     "output_type": "execute_result"
    }
   ],
   "source": [
    "df"
   ]
  },
  {
   "cell_type": "code",
   "execution_count": 154,
   "metadata": {},
   "outputs": [
    {
     "data": {
      "image/png": "[encoded data removed]",
      "text/plain": [
       "<Figure size 432x288 with 2 Axes>"
      ]
     },
     "metadata": {},
     "output_type": "display_data"
    }
   ],
   "source": [
    "ax = df.plot(kind = \"bar\", x = \"Date\", y = [\"Stationery_Net_Sales(Mi$)\", \"Lighters_Net_Sales(Mi$)\", \"Shavers_Net_Sales(Mi$)\", \"Other_Products_Net_Sales(Mi$)\" ], legend = True)\n",
    "plt.legend(loc = \"lower right\", bbox_to_anchor=(1.3, 0.1, 0.5, 0.5))\n",
    "ax2 = ax.twinx()\n",
    "df.plot(kind = \"line\", x = \"Date\", y=[\"Pct_change Stationery\",\"Pct_change Lighters\", \"Pct_change Shavers\", \"Pct_change Other Products\"], ax=ax2, legend=False, color = cm.rainbow(np.linspace(0,1,3)) , linewidth = 2.5, linestyle = \"--\")\n",
    "plt.axhline(0.0, color = \"k\" , linewidth = 2.5, linestyle = \"--\")\n",
    "\n",
    "\n",
    "plt.legend(loc = \"best\", bbox_to_anchor=(1.23, 0.5, 0.5, 0.5))\n",
    "plt.title(\"Bic Net Sales Revenue across 4 Main Product Groups (2016-2018)\")\n",
    "plt.show()"
   ]
  },
  {
   "cell_type": "markdown",
   "metadata": {},
   "source": [
    "## 4. BIC Daily Share Price - 2014/02/14 to date\n",
    "source : [Euro Stock Exchange](https://www.quandl.com/data/EURONEXT/BB-Bic-BB) - Accessed via personal quandl API account."
   ]
  },
  {
   "cell_type": "code",
   "execution_count": 114,
   "metadata": {},
   "outputs": [
    {
     "data": {
      "text/html": [
       "<div>\n",
       "<style scoped>\n",
       "    .dataframe tbody tr th:only-of-type {\n",
       "        vertical-align: middle;\n",
       "    }\n",
       "\n",
       "    .dataframe tbody tr th {\n",
       "        vertical-align: top;\n",
       "    }\n",
       "\n",
       "    .dataframe thead th {\n",
       "        text-align: right;\n",
       "    }\n",
       "</style>\n",
       "<table border=\"1\" class=\"dataframe\">\n",
       "  <thead>\n",
       "    <tr style=\"text-align: right;\">\n",
       "      <th></th>\n",
       "      <th>Date</th>\n",
       "      <th>Daily Opening Share Price</th>\n",
       "      <th>High</th>\n",
       "      <th>Low</th>\n",
       "      <th>Last</th>\n",
       "      <th>Volume</th>\n",
       "      <th>Daily Share Turnover</th>\n",
       "    </tr>\n",
       "  </thead>\n",
       "  <tbody>\n",
       "    <tr>\n",
       "      <th>0</th>\n",
       "      <td>2014-02-14</td>\n",
       "      <td>91.27</td>\n",
       "      <td>91.51</td>\n",
       "      <td>90.58</td>\n",
       "      <td>91.23</td>\n",
       "      <td>56557.0</td>\n",
       "      <td>5150866.90</td>\n",
       "    </tr>\n",
       "    <tr>\n",
       "      <th>1</th>\n",
       "      <td>2014-02-17</td>\n",
       "      <td>91.09</td>\n",
       "      <td>93.24</td>\n",
       "      <td>90.75</td>\n",
       "      <td>91.52</td>\n",
       "      <td>94680.0</td>\n",
       "      <td>8713499.18</td>\n",
       "    </tr>\n",
       "    <tr>\n",
       "      <th>2</th>\n",
       "      <td>2014-02-18</td>\n",
       "      <td>91.52</td>\n",
       "      <td>91.97</td>\n",
       "      <td>90.75</td>\n",
       "      <td>91.64</td>\n",
       "      <td>35716.0</td>\n",
       "      <td>3264984.00</td>\n",
       "    </tr>\n",
       "    <tr>\n",
       "      <th>3</th>\n",
       "      <td>2014-02-19</td>\n",
       "      <td>91.73</td>\n",
       "      <td>92.36</td>\n",
       "      <td>91.00</td>\n",
       "      <td>91.35</td>\n",
       "      <td>42901.0</td>\n",
       "      <td>3925229.81</td>\n",
       "    </tr>\n",
       "    <tr>\n",
       "      <th>4</th>\n",
       "      <td>2014-02-20</td>\n",
       "      <td>91.00</td>\n",
       "      <td>92.69</td>\n",
       "      <td>90.67</td>\n",
       "      <td>92.67</td>\n",
       "      <td>66093.0</td>\n",
       "      <td>6092367.70</td>\n",
       "    </tr>\n",
       "  </tbody>\n",
       "</table>\n",
       "</div>"
      ],
      "text/plain": [
       "        Date  Daily Opening Share Price   High    Low   Last   Volume  \\\n",
       "0 2014-02-14                      91.27  91.51  90.58  91.23  56557.0   \n",
       "1 2014-02-17                      91.09  93.24  90.75  91.52  94680.0   \n",
       "2 2014-02-18                      91.52  91.97  90.75  91.64  35716.0   \n",
       "3 2014-02-19                      91.73  92.36  91.00  91.35  42901.0   \n",
       "4 2014-02-20                      91.00  92.69  90.67  92.67  66093.0   \n",
       "\n",
       "   Daily Share Turnover  \n",
       "0            5150866.90  \n",
       "1            8713499.18  \n",
       "2            3264984.00  \n",
       "3            3925229.81  \n",
       "4            6092367.70  "
      ]
     },
     "execution_count": 114,
     "metadata": {},
     "output_type": "execute_result"
    }
   ],
   "source": [
    "Bic = quandl.get(\"EURONEXT/BB\", authtoken=\"nPJTgF6X2H2LLcDqJ8W8\")\n",
    "Bic.reset_index(inplace = True)\n",
    "Bic.rename(columns = {\"Open\":\"Daily Opening Share Price\",\"Turnover\" : \"Daily Share Turnover\" }, inplace = True)\n",
    "Bic.head()"
   ]
  },
  {
   "cell_type": "code",
   "execution_count": 115,
   "metadata": {},
   "outputs": [
    {
     "data": {
      "text/plain": [
       "Date                         datetime64[ns]\n",
       "Daily Opening Share Price           float64\n",
       "High                                float64\n",
       "Low                                 float64\n",
       "Last                                float64\n",
       "Volume                              float64\n",
       "Daily Share Turnover                float64\n",
       "dtype: object"
      ]
     },
     "execution_count": 115,
     "metadata": {},
     "output_type": "execute_result"
    }
   ],
   "source": [
    "Bic.dtypes"
   ]
  },
  {
   "cell_type": "markdown",
   "metadata": {},
   "source": [
    "### 4.1 Lowest Share Price"
   ]
  },
  {
   "cell_type": "code",
   "execution_count": 116,
   "metadata": {},
   "outputs": [
    {
     "data": {
      "text/plain": [
       "72.0"
      ]
     },
     "execution_count": 116,
     "metadata": {},
     "output_type": "execute_result"
    }
   ],
   "source": [
    "Bic[\"Daily Opening Share Price\"].min()"
   ]
  },
  {
   "cell_type": "code",
   "execution_count": 117,
   "metadata": {},
   "outputs": [
    {
     "data": {
      "text/html": [
       "<div>\n",
       "<style scoped>\n",
       "    .dataframe tbody tr th:only-of-type {\n",
       "        vertical-align: middle;\n",
       "    }\n",
       "\n",
       "    .dataframe tbody tr th {\n",
       "        vertical-align: top;\n",
       "    }\n",
       "\n",
       "    .dataframe thead th {\n",
       "        text-align: right;\n",
       "    }\n",
       "</style>\n",
       "<table border=\"1\" class=\"dataframe\">\n",
       "  <thead>\n",
       "    <tr style=\"text-align: right;\">\n",
       "      <th></th>\n",
       "      <th>Date</th>\n",
       "      <th>Daily Opening Share Price</th>\n",
       "      <th>High</th>\n",
       "      <th>Low</th>\n",
       "      <th>Last</th>\n",
       "      <th>Volume</th>\n",
       "      <th>Daily Share Turnover</th>\n",
       "    </tr>\n",
       "  </thead>\n",
       "  <tbody>\n",
       "    <tr>\n",
       "      <th>1162</th>\n",
       "      <td>2018-10-11</td>\n",
       "      <td>72.0</td>\n",
       "      <td>73.3</td>\n",
       "      <td>71.8</td>\n",
       "      <td>72.25</td>\n",
       "      <td>124722.0</td>\n",
       "      <td>9041358.85</td>\n",
       "    </tr>\n",
       "  </tbody>\n",
       "</table>\n",
       "</div>"
      ],
      "text/plain": [
       "           Date  Daily Opening Share Price  High   Low   Last    Volume  \\\n",
       "1162 2018-10-11                       72.0  73.3  71.8  72.25  124722.0   \n",
       "\n",
       "      Daily Share Turnover  \n",
       "1162            9041358.85  "
      ]
     },
     "execution_count": 117,
     "metadata": {},
     "output_type": "execute_result"
    }
   ],
   "source": [
    "Bic[Bic[\"Daily Opening Share Price\"] == 72]"
   ]
  },
  {
   "cell_type": "markdown",
   "metadata": {},
   "source": [
    "### 4.2 Highest Share Price"
   ]
  },
  {
   "cell_type": "code",
   "execution_count": 118,
   "metadata": {},
   "outputs": [
    {
     "data": {
      "text/plain": [
       "161.55"
      ]
     },
     "execution_count": 118,
     "metadata": {},
     "output_type": "execute_result"
    }
   ],
   "source": [
    "Bic[\"Daily Opening Share Price\"].max()"
   ]
  },
  {
   "cell_type": "code",
   "execution_count": 119,
   "metadata": {},
   "outputs": [
    {
     "data": {
      "text/html": [
       "<div>\n",
       "<style scoped>\n",
       "    .dataframe tbody tr th:only-of-type {\n",
       "        vertical-align: middle;\n",
       "    }\n",
       "\n",
       "    .dataframe tbody tr th {\n",
       "        vertical-align: top;\n",
       "    }\n",
       "\n",
       "    .dataframe thead th {\n",
       "        text-align: right;\n",
       "    }\n",
       "</style>\n",
       "<table border=\"1\" class=\"dataframe\">\n",
       "  <thead>\n",
       "    <tr style=\"text-align: right;\">\n",
       "      <th></th>\n",
       "      <th>Date</th>\n",
       "      <th>Daily Opening Share Price</th>\n",
       "      <th>High</th>\n",
       "      <th>Low</th>\n",
       "      <th>Last</th>\n",
       "      <th>Volume</th>\n",
       "      <th>Daily Share Turnover</th>\n",
       "    </tr>\n",
       "  </thead>\n",
       "  <tbody>\n",
       "    <tr>\n",
       "      <th>346</th>\n",
       "      <td>2015-08-04</td>\n",
       "      <td>161.55</td>\n",
       "      <td>162.0</td>\n",
       "      <td>158.2</td>\n",
       "      <td>159.45</td>\n",
       "      <td>31936.0</td>\n",
       "      <td>5095252.0</td>\n",
       "    </tr>\n",
       "  </tbody>\n",
       "</table>\n",
       "</div>"
      ],
      "text/plain": [
       "          Date  Daily Opening Share Price   High    Low    Last   Volume  \\\n",
       "346 2015-08-04                     161.55  162.0  158.2  159.45  31936.0   \n",
       "\n",
       "     Daily Share Turnover  \n",
       "346             5095252.0  "
      ]
     },
     "execution_count": 119,
     "metadata": {},
     "output_type": "execute_result"
    }
   ],
   "source": [
    "Bic[Bic[\"Daily Opening Share Price\"] == 161.55]"
   ]
  },
  {
   "cell_type": "markdown",
   "metadata": {},
   "source": [
    "### 4.3 Intraday Stock Volatility"
   ]
  },
  {
   "cell_type": "markdown",
   "metadata": {},
   "source": [
    "We compound the intraday volatility of the stock by using the \"High\" and \"Low\" columns. Because we are interested in the range of the the two values per each day rather than the subtracting one of it we express our function as follows:"
   ]
  },
  {
   "cell_type": "code",
   "execution_count": 120,
   "metadata": {},
   "outputs": [],
   "source": [
    "Bic[\"Intraday Stock Volatility\"] = Bic[\"High\"] - Bic[\"Low\"]"
   ]
  },
  {
   "cell_type": "markdown",
   "metadata": {},
   "source": [
    "Now let's calculate the rolling monthly average of intraday stock volatility for each year. We start from 2015 as we have not the entire year for 2014. "
   ]
  },
  {
   "cell_type": "code",
   "execution_count": 121,
   "metadata": {},
   "outputs": [],
   "source": [
    "Bic = Bic[Bic[\"Date\"] > \"2015-01-01\"]"
   ]
  },
  {
   "cell_type": "code",
   "execution_count": 122,
   "metadata": {},
   "outputs": [
    {
     "data": {
      "text/html": [
       "<div>\n",
       "<style scoped>\n",
       "    .dataframe tbody tr th:only-of-type {\n",
       "        vertical-align: middle;\n",
       "    }\n",
       "\n",
       "    .dataframe tbody tr th {\n",
       "        vertical-align: top;\n",
       "    }\n",
       "\n",
       "    .dataframe thead th {\n",
       "        text-align: right;\n",
       "    }\n",
       "</style>\n",
       "<table border=\"1\" class=\"dataframe\">\n",
       "  <thead>\n",
       "    <tr style=\"text-align: right;\">\n",
       "      <th></th>\n",
       "      <th>Date</th>\n",
       "      <th>Daily Opening Share Price</th>\n",
       "      <th>High</th>\n",
       "      <th>Low</th>\n",
       "      <th>Last</th>\n",
       "      <th>Volume</th>\n",
       "      <th>Daily Share Turnover</th>\n",
       "      <th>Intraday Stock Volatility</th>\n",
       "    </tr>\n",
       "  </thead>\n",
       "  <tbody>\n",
       "    <tr>\n",
       "      <th>209</th>\n",
       "      <td>2015-01-02</td>\n",
       "      <td>110.40</td>\n",
       "      <td>110.6</td>\n",
       "      <td>109.15</td>\n",
       "      <td>109.60</td>\n",
       "      <td>23883.0</td>\n",
       "      <td>2623192.10</td>\n",
       "      <td>1.45</td>\n",
       "    </tr>\n",
       "    <tr>\n",
       "      <th>210</th>\n",
       "      <td>2015-01-05</td>\n",
       "      <td>109.45</td>\n",
       "      <td>110.0</td>\n",
       "      <td>108.65</td>\n",
       "      <td>108.75</td>\n",
       "      <td>35406.0</td>\n",
       "      <td>3862939.30</td>\n",
       "      <td>1.35</td>\n",
       "    </tr>\n",
       "    <tr>\n",
       "      <th>211</th>\n",
       "      <td>2015-01-06</td>\n",
       "      <td>109.00</td>\n",
       "      <td>109.0</td>\n",
       "      <td>107.30</td>\n",
       "      <td>107.50</td>\n",
       "      <td>29276.0</td>\n",
       "      <td>3157524.70</td>\n",
       "      <td>1.70</td>\n",
       "    </tr>\n",
       "    <tr>\n",
       "      <th>212</th>\n",
       "      <td>2015-01-07</td>\n",
       "      <td>108.00</td>\n",
       "      <td>108.0</td>\n",
       "      <td>105.40</td>\n",
       "      <td>106.20</td>\n",
       "      <td>61258.0</td>\n",
       "      <td>6519004.30</td>\n",
       "      <td>2.60</td>\n",
       "    </tr>\n",
       "    <tr>\n",
       "      <th>213</th>\n",
       "      <td>2015-01-08</td>\n",
       "      <td>106.15</td>\n",
       "      <td>110.0</td>\n",
       "      <td>106.15</td>\n",
       "      <td>109.50</td>\n",
       "      <td>46187.0</td>\n",
       "      <td>5023047.45</td>\n",
       "      <td>3.85</td>\n",
       "    </tr>\n",
       "  </tbody>\n",
       "</table>\n",
       "</div>"
      ],
      "text/plain": [
       "          Date  Daily Opening Share Price   High     Low    Last   Volume  \\\n",
       "209 2015-01-02                     110.40  110.6  109.15  109.60  23883.0   \n",
       "210 2015-01-05                     109.45  110.0  108.65  108.75  35406.0   \n",
       "211 2015-01-06                     109.00  109.0  107.30  107.50  29276.0   \n",
       "212 2015-01-07                     108.00  108.0  105.40  106.20  61258.0   \n",
       "213 2015-01-08                     106.15  110.0  106.15  109.50  46187.0   \n",
       "\n",
       "     Daily Share Turnover  Intraday Stock Volatility  \n",
       "209            2623192.10                       1.45  \n",
       "210            3862939.30                       1.35  \n",
       "211            3157524.70                       1.70  \n",
       "212            6519004.30                       2.60  \n",
       "213            5023047.45                       3.85  "
      ]
     },
     "execution_count": 122,
     "metadata": {},
     "output_type": "execute_result"
    }
   ],
   "source": [
    "Bic.head()"
   ]
  },
  {
   "cell_type": "code",
   "execution_count": 123,
   "metadata": {},
   "outputs": [],
   "source": [
    "monthly_days = 256/12\n",
    "window = int(monthly_days)\n",
    "#We estimated the average trading days for a month by dividing the total trading days in a year (256) by 12 months."
   ]
  },
  {
   "cell_type": "code",
   "execution_count": 124,
   "metadata": {},
   "outputs": [],
   "source": [
    "Bic[\"Rolling Monthly Intraday Volatility Average\"] = Bic[\"Intraday Stock Volatility\"].rolling(window).mean()"
   ]
  },
  {
   "cell_type": "markdown",
   "metadata": {},
   "source": [
    "The result:"
   ]
  },
  {
   "cell_type": "code",
   "execution_count": 125,
   "metadata": {},
   "outputs": [
    {
     "data": {
      "text/html": [
       "<div>\n",
       "<style scoped>\n",
       "    .dataframe tbody tr th:only-of-type {\n",
       "        vertical-align: middle;\n",
       "    }\n",
       "\n",
       "    .dataframe tbody tr th {\n",
       "        vertical-align: top;\n",
       "    }\n",
       "\n",
       "    .dataframe thead th {\n",
       "        text-align: right;\n",
       "    }\n",
       "</style>\n",
       "<table border=\"1\" class=\"dataframe\">\n",
       "  <thead>\n",
       "    <tr style=\"text-align: right;\">\n",
       "      <th></th>\n",
       "      <th>Date</th>\n",
       "      <th>Daily Opening Share Price</th>\n",
       "      <th>High</th>\n",
       "      <th>Low</th>\n",
       "      <th>Last</th>\n",
       "      <th>Volume</th>\n",
       "      <th>Daily Share Turnover</th>\n",
       "      <th>Intraday Stock Volatility</th>\n",
       "      <th>Rolling Monthly Intraday Volatility Average</th>\n",
       "    </tr>\n",
       "  </thead>\n",
       "  <tbody>\n",
       "    <tr>\n",
       "      <th>209</th>\n",
       "      <td>2015-01-02</td>\n",
       "      <td>110.40</td>\n",
       "      <td>110.6</td>\n",
       "      <td>109.15</td>\n",
       "      <td>109.60</td>\n",
       "      <td>23883.0</td>\n",
       "      <td>2623192.10</td>\n",
       "      <td>1.45</td>\n",
       "      <td>NaN</td>\n",
       "    </tr>\n",
       "    <tr>\n",
       "      <th>210</th>\n",
       "      <td>2015-01-05</td>\n",
       "      <td>109.45</td>\n",
       "      <td>110.0</td>\n",
       "      <td>108.65</td>\n",
       "      <td>108.75</td>\n",
       "      <td>35406.0</td>\n",
       "      <td>3862939.30</td>\n",
       "      <td>1.35</td>\n",
       "      <td>NaN</td>\n",
       "    </tr>\n",
       "    <tr>\n",
       "      <th>211</th>\n",
       "      <td>2015-01-06</td>\n",
       "      <td>109.00</td>\n",
       "      <td>109.0</td>\n",
       "      <td>107.30</td>\n",
       "      <td>107.50</td>\n",
       "      <td>29276.0</td>\n",
       "      <td>3157524.70</td>\n",
       "      <td>1.70</td>\n",
       "      <td>NaN</td>\n",
       "    </tr>\n",
       "    <tr>\n",
       "      <th>212</th>\n",
       "      <td>2015-01-07</td>\n",
       "      <td>108.00</td>\n",
       "      <td>108.0</td>\n",
       "      <td>105.40</td>\n",
       "      <td>106.20</td>\n",
       "      <td>61258.0</td>\n",
       "      <td>6519004.30</td>\n",
       "      <td>2.60</td>\n",
       "      <td>NaN</td>\n",
       "    </tr>\n",
       "    <tr>\n",
       "      <th>213</th>\n",
       "      <td>2015-01-08</td>\n",
       "      <td>106.15</td>\n",
       "      <td>110.0</td>\n",
       "      <td>106.15</td>\n",
       "      <td>109.50</td>\n",
       "      <td>46187.0</td>\n",
       "      <td>5023047.45</td>\n",
       "      <td>3.85</td>\n",
       "      <td>NaN</td>\n",
       "    </tr>\n",
       "  </tbody>\n",
       "</table>\n",
       "</div>"
      ],
      "text/plain": [
       "          Date  Daily Opening Share Price   High     Low    Last   Volume  \\\n",
       "209 2015-01-02                     110.40  110.6  109.15  109.60  23883.0   \n",
       "210 2015-01-05                     109.45  110.0  108.65  108.75  35406.0   \n",
       "211 2015-01-06                     109.00  109.0  107.30  107.50  29276.0   \n",
       "212 2015-01-07                     108.00  108.0  105.40  106.20  61258.0   \n",
       "213 2015-01-08                     106.15  110.0  106.15  109.50  46187.0   \n",
       "\n",
       "     Daily Share Turnover  Intraday Stock Volatility  \\\n",
       "209            2623192.10                       1.45   \n",
       "210            3862939.30                       1.35   \n",
       "211            3157524.70                       1.70   \n",
       "212            6519004.30                       2.60   \n",
       "213            5023047.45                       3.85   \n",
       "\n",
       "     Rolling Monthly Intraday Volatility Average  \n",
       "209                                          NaN  \n",
       "210                                          NaN  \n",
       "211                                          NaN  \n",
       "212                                          NaN  \n",
       "213                                          NaN  "
      ]
     },
     "execution_count": 125,
     "metadata": {},
     "output_type": "execute_result"
    }
   ],
   "source": [
    "Bic.head()"
   ]
  },
  {
   "cell_type": "markdown",
   "metadata": {},
   "source": [
    "Now we extract all the trading days were the value for \"Rolling Monthly Intraday Volatility Average\" is not NaN"
   ]
  },
  {
   "cell_type": "code",
   "execution_count": 130,
   "metadata": {},
   "outputs": [
    {
     "data": {
      "text/html": [
       "<div>\n",
       "<style scoped>\n",
       "    .dataframe tbody tr th:only-of-type {\n",
       "        vertical-align: middle;\n",
       "    }\n",
       "\n",
       "    .dataframe tbody tr th {\n",
       "        vertical-align: top;\n",
       "    }\n",
       "\n",
       "    .dataframe thead th {\n",
       "        text-align: right;\n",
       "    }\n",
       "</style>\n",
       "<table border=\"1\" class=\"dataframe\">\n",
       "  <thead>\n",
       "    <tr style=\"text-align: right;\">\n",
       "      <th></th>\n",
       "      <th>Date</th>\n",
       "      <th>Daily Opening Share Price</th>\n",
       "      <th>High</th>\n",
       "      <th>Low</th>\n",
       "      <th>Last</th>\n",
       "      <th>Volume</th>\n",
       "      <th>Daily Share Turnover</th>\n",
       "      <th>Intraday Stock Volatility</th>\n",
       "      <th>Rolling Monthly Intraday Volatility Average</th>\n",
       "    </tr>\n",
       "  </thead>\n",
       "  <tbody>\n",
       "    <tr>\n",
       "      <th>229</th>\n",
       "      <td>2015-01-30</td>\n",
       "      <td>124.65</td>\n",
       "      <td>126.55</td>\n",
       "      <td>124.50</td>\n",
       "      <td>126.00</td>\n",
       "      <td>64509.0</td>\n",
       "      <td>8115470.600</td>\n",
       "      <td>2.05</td>\n",
       "      <td>2.207143</td>\n",
       "    </tr>\n",
       "    <tr>\n",
       "      <th>230</th>\n",
       "      <td>2015-02-02</td>\n",
       "      <td>126.05</td>\n",
       "      <td>126.35</td>\n",
       "      <td>122.45</td>\n",
       "      <td>123.55</td>\n",
       "      <td>53632.0</td>\n",
       "      <td>6651568.833</td>\n",
       "      <td>3.90</td>\n",
       "      <td>2.323810</td>\n",
       "    </tr>\n",
       "    <tr>\n",
       "      <th>231</th>\n",
       "      <td>2015-02-03</td>\n",
       "      <td>123.85</td>\n",
       "      <td>125.45</td>\n",
       "      <td>123.45</td>\n",
       "      <td>125.15</td>\n",
       "      <td>50889.0</td>\n",
       "      <td>6351610.200</td>\n",
       "      <td>2.00</td>\n",
       "      <td>2.354762</td>\n",
       "    </tr>\n",
       "    <tr>\n",
       "      <th>232</th>\n",
       "      <td>2015-02-04</td>\n",
       "      <td>125.00</td>\n",
       "      <td>126.15</td>\n",
       "      <td>124.65</td>\n",
       "      <td>126.15</td>\n",
       "      <td>40453.0</td>\n",
       "      <td>5081026.300</td>\n",
       "      <td>1.50</td>\n",
       "      <td>2.345238</td>\n",
       "    </tr>\n",
       "    <tr>\n",
       "      <th>233</th>\n",
       "      <td>2015-02-05</td>\n",
       "      <td>125.85</td>\n",
       "      <td>127.10</td>\n",
       "      <td>125.70</td>\n",
       "      <td>126.45</td>\n",
       "      <td>32190.0</td>\n",
       "      <td>4067833.300</td>\n",
       "      <td>1.40</td>\n",
       "      <td>2.288095</td>\n",
       "    </tr>\n",
       "  </tbody>\n",
       "</table>\n",
       "</div>"
      ],
      "text/plain": [
       "          Date  Daily Opening Share Price    High     Low    Last   Volume  \\\n",
       "229 2015-01-30                     124.65  126.55  124.50  126.00  64509.0   \n",
       "230 2015-02-02                     126.05  126.35  122.45  123.55  53632.0   \n",
       "231 2015-02-03                     123.85  125.45  123.45  125.15  50889.0   \n",
       "232 2015-02-04                     125.00  126.15  124.65  126.15  40453.0   \n",
       "233 2015-02-05                     125.85  127.10  125.70  126.45  32190.0   \n",
       "\n",
       "     Daily Share Turnover  Intraday Stock Volatility  \\\n",
       "229           8115470.600                       2.05   \n",
       "230           6651568.833                       3.90   \n",
       "231           6351610.200                       2.00   \n",
       "232           5081026.300                       1.50   \n",
       "233           4067833.300                       1.40   \n",
       "\n",
       "     Rolling Monthly Intraday Volatility Average  \n",
       "229                                     2.207143  \n",
       "230                                     2.323810  \n",
       "231                                     2.354762  \n",
       "232                                     2.345238  \n",
       "233                                     2.288095  "
      ]
     },
     "execution_count": 130,
     "metadata": {},
     "output_type": "execute_result"
    }
   ],
   "source": [
    "Bic = Bic[Bic[\"Rolling Monthly Intraday Volatility Average\"].notna()]\n",
    "Bic.head()"
   ]
  },
  {
   "cell_type": "markdown",
   "metadata": {},
   "source": [
    "As we expected the timeseries now starts from the end of the first month of January. We are left with visualising the findings graphically."
   ]
  },
  {
   "cell_type": "markdown",
   "metadata": {},
   "source": [
    "### 4.4 Data Visualisation"
   ]
  },
  {
   "cell_type": "code",
   "execution_count": 195,
   "metadata": {},
   "outputs": [
    {
     "data": {
      "image/png": "[encoded data removed]",
      "text/plain": [
       "<Figure size 1080x720 with 2 Axes>"
      ]
     },
     "metadata": {},
     "output_type": "display_data"
    }
   ],
   "source": [
    "Bic['date'] = pd.to_datetime(Bic['Date'], unit='d')\n",
    "\n",
    "t = Bic[\"date\"]\n",
    "s1 = Bic[\"Intraday Stock Volatility\"]\n",
    "s2 = Bic[\"Rolling Monthly Intraday Volatility Average\"]\n",
    "\n",
    "fig, axs = plt.subplots(2, 1, figsize=(15,10))\n",
    "\n",
    "\n",
    "axs[0].plot(t, s1, t, s2)\n",
    "axs[0].set_xlabel('Date')\n",
    "axs[0].set_ylabel('Stock Price Volatility')\n",
    "axs[0].grid(True)\n",
    "axs[0].set_title(\"Intraday Volatility & Rolling Monthly Voltatility Avg.\")\n",
    "\n",
    "\n",
    "f = axs[1].plot(t, Bic[\"Daily Opening Share Price\"])\n",
    "axs[1].set_ylabel('Stock Price')\n",
    "axs[1].set_xlabel('Date')\n",
    "axs[1].grid(True)\n",
    "axs[1].set_title(\"Daily Opening Share Price (2015-to date)\")\n",
    "\n",
    "fig.tight_layout()\n",
    "\n",
    "plt.show()"
   ]
  },
  {
   "cell_type": "code",
   "execution_count": null,
   "metadata": {},
   "outputs": [],
   "source": []
  }
 ],
 "metadata": {
  "kernelspec": {
   "display_name": "Python 3",
   "language": "python",
   "name": "python3"
  },
  "language_info": {
   "codemirror_mode": {
    "name": "ipython",
    "version": 3
   },
   "file_extension": ".py",
   "mimetype": "text/x-python",
   "name": "python",
   "nbconvert_exporter": "python",
   "pygments_lexer": "ipython3",
   "version": "3.6.8"
  }
 },
 "nbformat": 4,
 "nbformat_minor": 2
}
